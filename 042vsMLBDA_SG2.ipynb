{
 "cells": [
  {
   "cell_type": "markdown",
   "metadata": {
    "id": "Kp3QxHxeBPN1"
   },
   "source": [
    "# COUNT THE OCCURRENCE OF A PARTICULAR WORD IN EACH AND ALL REVIEWS"
   ]
  },
  {
   "cell_type": "code",
   "execution_count": 1,
   "metadata": {
    "id": "3gP2YRQjADza"
   },
   "outputs": [],
   "source": [
    "from sklearn.feature_extraction.text import CountVectorizer"
   ]
  },
  {
   "cell_type": "code",
   "execution_count": 2,
   "metadata": {},
   "outputs": [],
   "source": [
    "import pandas as pd"
   ]
  },
  {
   "cell_type": "code",
   "execution_count": 40,
   "metadata": {},
   "outputs": [],
   "source": [
    "file_dataset = \"./CSV/df_processed_polarity_and_satisfaction.csv\"\n",
    "file_processed_text = \"./CSV/processed_text.csv\"\n",
    "file_vocabulary_processed = \"./CSV/vocabulary_processed.csv\"\n",
    "file_term_counts_per_review = \"./CSV/term_counts_per_review.csv\"\n",
    "# file_out = \"df_processed_sentimentValue.csv\""
   ]
  },
  {
   "cell_type": "code",
   "execution_count": 4,
   "metadata": {
    "scrolled": true
   },
   "outputs": [
    {
     "data": {
      "text/html": [
       "<div>\n",
       "<style scoped>\n",
       "    .dataframe tbody tr th:only-of-type {\n",
       "        vertical-align: middle;\n",
       "    }\n",
       "\n",
       "    .dataframe tbody tr th {\n",
       "        vertical-align: top;\n",
       "    }\n",
       "\n",
       "    .dataframe thead th {\n",
       "        text-align: right;\n",
       "    }\n",
       "</style>\n",
       "<table border=\"1\" class=\"dataframe\">\n",
       "  <thead>\n",
       "    <tr style=\"text-align: right;\">\n",
       "      <th></th>\n",
       "      <th>_id</th>\n",
       "      <th>Id</th>\n",
       "      <th>ProductId</th>\n",
       "      <th>UserId</th>\n",
       "      <th>ProfileName</th>\n",
       "      <th>HelpfulnessNumerator</th>\n",
       "      <th>HelpfulnessDenominator</th>\n",
       "      <th>Score</th>\n",
       "      <th>Time</th>\n",
       "      <th>Summary</th>\n",
       "      <th>Text</th>\n",
       "      <th>ProductURL</th>\n",
       "      <th>Year</th>\n",
       "      <th>Month</th>\n",
       "      <th>Day</th>\n",
       "      <th>Polarity</th>\n",
       "      <th>Customer_Satisfied</th>\n",
       "    </tr>\n",
       "  </thead>\n",
       "  <tbody>\n",
       "    <tr>\n",
       "      <th>0</th>\n",
       "      <td>0</td>\n",
       "      <td>1</td>\n",
       "      <td>B001E4KFG0</td>\n",
       "      <td>A3SGXH7AUHU8GW</td>\n",
       "      <td>delmartian</td>\n",
       "      <td>1</td>\n",
       "      <td>1</td>\n",
       "      <td>5</td>\n",
       "      <td>2011-04-27</td>\n",
       "      <td>Good Quality Dog Food</td>\n",
       "      <td>I have bought several of the Vitality canned d...</td>\n",
       "      <td>https://www.amazon.com/dp/B001E4KFG0</td>\n",
       "      <td>2011</td>\n",
       "      <td>4</td>\n",
       "      <td>27</td>\n",
       "      <td>0.9441</td>\n",
       "      <td>1</td>\n",
       "    </tr>\n",
       "    <tr>\n",
       "      <th>1</th>\n",
       "      <td>2</td>\n",
       "      <td>3</td>\n",
       "      <td>B000LQOCH0</td>\n",
       "      <td>ABXLMWJIXXAIN</td>\n",
       "      <td>Natalia Corres \"Natalia Corres\"</td>\n",
       "      <td>1</td>\n",
       "      <td>1</td>\n",
       "      <td>4</td>\n",
       "      <td>2008-08-18</td>\n",
       "      <td>\"Delight\" says it all</td>\n",
       "      <td>This is a confection that has been around a fe...</td>\n",
       "      <td>https://www.amazon.com/dp/B000LQOCH0</td>\n",
       "      <td>2008</td>\n",
       "      <td>8</td>\n",
       "      <td>18</td>\n",
       "      <td>0.8265</td>\n",
       "      <td>1</td>\n",
       "    </tr>\n",
       "    <tr>\n",
       "      <th>2</th>\n",
       "      <td>3</td>\n",
       "      <td>4</td>\n",
       "      <td>B000UA0QIQ</td>\n",
       "      <td>A395BORC6FGVXV</td>\n",
       "      <td>Karl</td>\n",
       "      <td>3</td>\n",
       "      <td>3</td>\n",
       "      <td>2</td>\n",
       "      <td>2011-06-13</td>\n",
       "      <td>Cough Medicine</td>\n",
       "      <td>If you are looking for the secret ingredient i...</td>\n",
       "      <td>https://www.amazon.com/dp/B000UA0QIQ</td>\n",
       "      <td>2011</td>\n",
       "      <td>6</td>\n",
       "      <td>13</td>\n",
       "      <td>0.0000</td>\n",
       "      <td>0</td>\n",
       "    </tr>\n",
       "    <tr>\n",
       "      <th>3</th>\n",
       "      <td>1</td>\n",
       "      <td>2</td>\n",
       "      <td>B00813GRG4</td>\n",
       "      <td>A1D87F6ZCVE5NK</td>\n",
       "      <td>dll pa</td>\n",
       "      <td>0</td>\n",
       "      <td>0</td>\n",
       "      <td>1</td>\n",
       "      <td>2012-09-07</td>\n",
       "      <td>Not as Advertised</td>\n",
       "      <td>Product arrived labeled as Jumbo Salted Peanut...</td>\n",
       "      <td>https://www.amazon.com/dp/B00813GRG4</td>\n",
       "      <td>2012</td>\n",
       "      <td>9</td>\n",
       "      <td>7</td>\n",
       "      <td>-0.5664</td>\n",
       "      <td>0</td>\n",
       "    </tr>\n",
       "    <tr>\n",
       "      <th>4</th>\n",
       "      <td>4</td>\n",
       "      <td>5</td>\n",
       "      <td>B006K2ZZ7K</td>\n",
       "      <td>A1UQRSCLF8GW1T</td>\n",
       "      <td>Michael D. Bigham \"M. Wassir\"</td>\n",
       "      <td>0</td>\n",
       "      <td>0</td>\n",
       "      <td>5</td>\n",
       "      <td>2012-10-21</td>\n",
       "      <td>Great taffy</td>\n",
       "      <td>Great taffy at a great price.  There was a wid...</td>\n",
       "      <td>https://www.amazon.com/dp/B006K2ZZ7K</td>\n",
       "      <td>2012</td>\n",
       "      <td>10</td>\n",
       "      <td>21</td>\n",
       "      <td>0.9468</td>\n",
       "      <td>1</td>\n",
       "    </tr>\n",
       "  </tbody>\n",
       "</table>\n",
       "</div>"
      ],
      "text/plain": [
       "   _id  Id   ProductId          UserId                      ProfileName  \\\n",
       "0    0   1  B001E4KFG0  A3SGXH7AUHU8GW                       delmartian   \n",
       "1    2   3  B000LQOCH0   ABXLMWJIXXAIN  Natalia Corres \"Natalia Corres\"   \n",
       "2    3   4  B000UA0QIQ  A395BORC6FGVXV                             Karl   \n",
       "3    1   2  B00813GRG4  A1D87F6ZCVE5NK                           dll pa   \n",
       "4    4   5  B006K2ZZ7K  A1UQRSCLF8GW1T    Michael D. Bigham \"M. Wassir\"   \n",
       "\n",
       "   HelpfulnessNumerator  HelpfulnessDenominator  Score        Time  \\\n",
       "0                     1                       1      5  2011-04-27   \n",
       "1                     1                       1      4  2008-08-18   \n",
       "2                     3                       3      2  2011-06-13   \n",
       "3                     0                       0      1  2012-09-07   \n",
       "4                     0                       0      5  2012-10-21   \n",
       "\n",
       "                 Summary                                               Text  \\\n",
       "0  Good Quality Dog Food  I have bought several of the Vitality canned d...   \n",
       "1  \"Delight\" says it all  This is a confection that has been around a fe...   \n",
       "2         Cough Medicine  If you are looking for the secret ingredient i...   \n",
       "3      Not as Advertised  Product arrived labeled as Jumbo Salted Peanut...   \n",
       "4            Great taffy  Great taffy at a great price.  There was a wid...   \n",
       "\n",
       "                             ProductURL  Year  Month  Day  Polarity  \\\n",
       "0  https://www.amazon.com/dp/B001E4KFG0  2011      4   27    0.9441   \n",
       "1  https://www.amazon.com/dp/B000LQOCH0  2008      8   18    0.8265   \n",
       "2  https://www.amazon.com/dp/B000UA0QIQ  2011      6   13    0.0000   \n",
       "3  https://www.amazon.com/dp/B00813GRG4  2012      9    7   -0.5664   \n",
       "4  https://www.amazon.com/dp/B006K2ZZ7K  2012     10   21    0.9468   \n",
       "\n",
       "   Customer_Satisfied  \n",
       "0                   1  \n",
       "1                   1  \n",
       "2                   0  \n",
       "3                   0  \n",
       "4                   1  "
      ]
     },
     "execution_count": 4,
     "metadata": {},
     "output_type": "execute_result"
    }
   ],
   "source": [
    "df = pd.read_csv(file_dataset)\n",
    "df.head()"
   ]
  },
  {
   "cell_type": "code",
   "execution_count": 5,
   "metadata": {},
   "outputs": [],
   "source": [
    "# Reviews\n",
    "reviews = df[['Id', 'Text']]"
   ]
  },
  {
   "cell_type": "code",
   "execution_count": 6,
   "metadata": {
    "id": "UJfP3wgCcPa_"
   },
   "outputs": [
    {
     "data": {
      "text/plain": [
       "'I have bought several of the Vitality canned dog food products and have found them all to be of good quality. The product looks more like a stew than a processed meat and it smells better. My Labrador is finicky and she appreciates this product better than  most.'"
      ]
     },
     "execution_count": 6,
     "metadata": {},
     "output_type": "execute_result"
    }
   ],
   "source": [
    "#Corpus of original reviews\n",
    "reviews_corpus = reviews['Text'].tolist()\n",
    "reviews_corpus[0]"
   ]
  },
  {
   "cell_type": "markdown",
   "metadata": {
    "id": "OmFwaO8bBZzr"
   },
   "source": [
    "## Raw Count"
   ]
  },
  {
   "cell_type": "code",
   "execution_count": 7,
   "metadata": {
    "id": "NOKr9rYVnr73"
   },
   "outputs": [
    {
     "name": "stdout",
     "output_type": "stream",
     "text": [
      "CPU times: user 29 s, sys: 520 ms, total: 29.5 s\n",
      "Wall time: 29.5 s\n"
     ]
    }
   ],
   "source": [
    "%%time\n",
    "#Raw word count\n",
    "vectorizer_raw = CountVectorizer()\n",
    "raw_counts = vectorizer_raw.fit_transform(reviews_corpus)"
   ]
  },
  {
   "cell_type": "code",
   "execution_count": 9,
   "metadata": {
    "id": "KJN8Qcwqdvzc"
   },
   "outputs": [],
   "source": [
    "feature_names = list(vectorizer_raw.get_feature_names_out())"
   ]
  },
  {
   "cell_type": "code",
   "execution_count": 10,
   "metadata": {
    "colab": {
     "base_uri": "https://localhost:8080/"
    },
    "id": "VRAD-POmjZVB",
    "outputId": "86fc4c7d-7369-4e21-d176-4b4469cef74d"
   },
   "outputs": [
    {
     "data": {
      "text/plain": [
       "120246"
      ]
     },
     "execution_count": 10,
     "metadata": {},
     "output_type": "execute_result"
    }
   ],
   "source": [
    "len(feature_names)"
   ]
  },
  {
   "cell_type": "markdown",
   "metadata": {
    "id": "fBz3nJdEBezM"
   },
   "source": [
    "## Count with Preprocessing"
   ]
  },
  {
   "cell_type": "markdown",
   "metadata": {
    "id": "Qf4mjyS-DEfW"
   },
   "source": [
    "### Preprocessing Functions"
   ]
  },
  {
   "cell_type": "code",
   "execution_count": 11,
   "metadata": {
    "id": "YP8P5hiEWu9d"
   },
   "outputs": [
    {
     "name": "stdout",
     "output_type": "stream",
     "text": [
      "Requirement already satisfied: html5lib in /home/mjubuntu18/anaconda3/lib/python3.11/site-packages (1.1)\n",
      "Requirement already satisfied: six>=1.9 in /home/mjubuntu18/anaconda3/lib/python3.11/site-packages (from html5lib) (1.16.0)\n",
      "Requirement already satisfied: webencodings in /home/mjubuntu18/anaconda3/lib/python3.11/site-packages (from html5lib) (0.5.1)\n",
      "Requirement already satisfied: lxml in /home/mjubuntu18/anaconda3/lib/python3.11/site-packages (4.9.3)\n",
      "Requirement already satisfied: bs4 in /home/mjubuntu18/anaconda3/lib/python3.11/site-packages (0.0.2)\n",
      "Requirement already satisfied: beautifulsoup4 in /home/mjubuntu18/anaconda3/lib/python3.11/site-packages (from bs4) (4.12.2)\n",
      "Requirement already satisfied: soupsieve>1.2 in /home/mjubuntu18/anaconda3/lib/python3.11/site-packages (from beautifulsoup4->bs4) (2.5)\n"
     ]
    }
   ],
   "source": [
    "!pip install html5lib\n",
    "!pip install lxml\n",
    "!pip install bs4"
   ]
  },
  {
   "cell_type": "code",
   "execution_count": 12,
   "metadata": {
    "colab": {
     "base_uri": "https://localhost:8080/"
    },
    "id": "ut0dX53qDKng",
    "outputId": "0a56bbb9-21c9-4443-d39e-8e469a494583"
   },
   "outputs": [
    {
     "name": "stderr",
     "output_type": "stream",
     "text": [
      "[nltk_data] Downloading package stopwords to\n",
      "[nltk_data]     /home/mjubuntu18/nltk_data...\n",
      "[nltk_data]   Package stopwords is already up-to-date!\n",
      "[nltk_data] Downloading package punkt to /home/mjubuntu18/nltk_data...\n",
      "[nltk_data]   Package punkt is already up-to-date!\n"
     ]
    },
    {
     "data": {
      "text/plain": [
       "True"
      ]
     },
     "execution_count": 12,
     "metadata": {},
     "output_type": "execute_result"
    }
   ],
   "source": [
    "import string\n",
    "import re\n",
    "import nltk\n",
    "\n",
    "from nltk.corpus import stopwords\n",
    "from nltk.tokenize import word_tokenize\n",
    "from urllib.parse import urlparse\n",
    "from bs4 import BeautifulSoup\n",
    "\n",
    "nltk.download('stopwords')\n",
    "nltk.download('punkt')"
   ]
  },
  {
   "cell_type": "code",
   "execution_count": 13,
   "metadata": {
    "id": "FQQ2hOjem9Yv"
   },
   "outputs": [],
   "source": [
    "stop_words = stopwords.words('english')"
   ]
  },
  {
   "cell_type": "code",
   "execution_count": 14,
   "metadata": {
    "id": "2QjN2PeLmLqX"
   },
   "outputs": [],
   "source": [
    "#Remove Stop Words\n",
    "def remove_stopwords(review):\n",
    "  words = word_tokenize(review)\n",
    "  words = [word for word in words if word.lower() not in stop_words]\n",
    "  processed_review = ' '.join(words)\n",
    "\n",
    "  return processed_review"
   ]
  },
  {
   "cell_type": "code",
   "execution_count": 15,
   "metadata": {
    "id": "ETfke41C_Dzf"
   },
   "outputs": [],
   "source": [
    "#Remove Punctuation\n",
    "def remove_punctuation(review):\n",
    "  processed_review = review.translate(str.maketrans(string.punctuation, ' '*len(string.punctuation)))\n",
    "  return processed_review"
   ]
  },
  {
   "cell_type": "code",
   "execution_count": 16,
   "metadata": {
    "id": "INiMToSxC8Fg"
   },
   "outputs": [],
   "source": [
    "#Remove numbers\n",
    "def remove_numbers(review):\n",
    "  processed_review = ''.join(character for character in review if not character.isdigit())\n",
    "  return processed_review"
   ]
  },
  {
   "cell_type": "code",
   "execution_count": 17,
   "metadata": {
    "id": "I1h7sSPkoN-K"
   },
   "outputs": [],
   "source": [
    "#Lowercase sentence\n",
    "def lowercase_text(text):\n",
    "    return text.lower()"
   ]
  },
  {
   "cell_type": "code",
   "execution_count": 18,
   "metadata": {
    "id": "3mVv_mMCN1yN"
   },
   "outputs": [],
   "source": [
    "#Remove Links\n",
    "def remove_links(review):\n",
    "  words = review.split()\n",
    "  for i, word in enumerate(words):\n",
    "    parsed_url = urlparse(word)\n",
    "    if parsed_url.scheme and parsed_url.netloc:\n",
    "      words[i] = \"\"\n",
    "\n",
    "  return ' '.join(words)"
   ]
  },
  {
   "cell_type": "code",
   "execution_count": 22,
   "metadata": {
    "id": "f9rV5mQZveqs"
   },
   "outputs": [],
   "source": [
    "#Remove html expressions\n",
    "def remove_html(review):\n",
    "  process = BeautifulSoup(review, 'html5lib')\n",
    "  # process = BeautifulSoup(review, 'html.parser')\n",
    "  processed_review = process.get_text(separator=\" \")\n",
    "  return processed_review"
   ]
  },
  {
   "cell_type": "code",
   "execution_count": 25,
   "metadata": {
    "id": "JkD4OOkKIP67"
   },
   "outputs": [],
   "source": [
    "def preprocess_review(review):\n",
    "  preprocessed_review = remove_html(review)\n",
    "  # preprocessed_review = remove_links(preprocessed_review)\n",
    "  preprocessed_review = remove_punctuation(preprocessed_review)\n",
    "  preprocessed_review = remove_stopwords(preprocessed_review)\n",
    "  preprocessed_review = remove_numbers(preprocessed_review)\n",
    "  preprocessed_review = lowercase_text(preprocessed_review)\n",
    "\n",
    "  return preprocessed_review"
   ]
  },
  {
   "cell_type": "markdown",
   "metadata": {
    "id": "EjqfJ_tUDxK6"
   },
   "source": [
    "### Preprocess the Corpus"
   ]
  },
  {
   "cell_type": "code",
   "execution_count": 26,
   "metadata": {
    "colab": {
     "base_uri": "https://localhost:8080/"
    },
    "id": "X9j3-nCii_FX",
    "outputId": "c0f129cc-143d-4e1e-e653-14cab2a8075f"
   },
   "outputs": [
    {
     "name": "stderr",
     "output_type": "stream",
     "text": [
      "/tmp/ipykernel_6220/3350175096.py:3: MarkupResemblesLocatorWarning: The input looks more like a filename than markup. You may want to open this file and pass the filehandle into Beautiful Soup.\n",
      "  process = BeautifulSoup(review, 'html5lib')\n"
     ]
    },
    {
     "name": "stdout",
     "output_type": "stream",
     "text": [
      "CPU times: user 6min 9s, sys: 746 ms, total: 6min 9s\n",
      "Wall time: 6min 10s\n"
     ]
    }
   ],
   "source": [
    "%%time\n",
    "#Preprocess the whole corpus\n",
    "#Note: 10+ minutes on Colab\n",
    "preprocessed_corpus = [preprocess_review(review) for review in reviews_corpus]"
   ]
  },
  {
   "cell_type": "code",
   "execution_count": 27,
   "metadata": {
    "id": "3xNOrrrXpaZn"
   },
   "outputs": [],
   "source": [
    "#Turn array into dataframe\n",
    "processed_text_dataframe = pd.DataFrame(preprocessed_corpus, columns = ['Processed Text'])\n",
    "\n",
    "#Add review Ids to the dataframe\n",
    "processed_text_dataframe = pd.concat([reviews[\"Id\"], processed_text_dataframe], axis=1)"
   ]
  },
  {
   "cell_type": "code",
   "execution_count": 29,
   "metadata": {
    "id": "ROuyVtCZxZd3"
   },
   "outputs": [],
   "source": [
    "processed_text_dataframe.to_csv(file_processed_text, index=False)"
   ]
  },
  {
   "cell_type": "code",
   "execution_count": 32,
   "metadata": {
    "colab": {
     "base_uri": "https://localhost:8080/",
     "height": 423
    },
    "id": "t6xrcD6bqHX6",
    "outputId": "32e7b9ed-8a2d-427e-8083-98be039ab559"
   },
   "outputs": [
    {
     "data": {
      "text/html": [
       "<div>\n",
       "<style scoped>\n",
       "    .dataframe tbody tr th:only-of-type {\n",
       "        vertical-align: middle;\n",
       "    }\n",
       "\n",
       "    .dataframe tbody tr th {\n",
       "        vertical-align: top;\n",
       "    }\n",
       "\n",
       "    .dataframe thead th {\n",
       "        text-align: right;\n",
       "    }\n",
       "</style>\n",
       "<table border=\"1\" class=\"dataframe\">\n",
       "  <thead>\n",
       "    <tr style=\"text-align: right;\">\n",
       "      <th></th>\n",
       "      <th>Id</th>\n",
       "      <th>Processed Text</th>\n",
       "    </tr>\n",
       "  </thead>\n",
       "  <tbody>\n",
       "    <tr>\n",
       "      <th>0</th>\n",
       "      <td>1</td>\n",
       "      <td>bought several vitality canned dog food produc...</td>\n",
       "    </tr>\n",
       "    <tr>\n",
       "      <th>1</th>\n",
       "      <td>3</td>\n",
       "      <td>confection around centuries light pillowy citr...</td>\n",
       "    </tr>\n",
       "    <tr>\n",
       "      <th>2</th>\n",
       "      <td>4</td>\n",
       "      <td>looking secret ingredient robitussin believe f...</td>\n",
       "    </tr>\n",
       "    <tr>\n",
       "      <th>3</th>\n",
       "      <td>2</td>\n",
       "      <td>product arrived labeled jumbo salted peanuts p...</td>\n",
       "    </tr>\n",
       "    <tr>\n",
       "      <th>4</th>\n",
       "      <td>5</td>\n",
       "      <td>great taffy great price wide assortment yummy ...</td>\n",
       "    </tr>\n",
       "    <tr>\n",
       "      <th>5</th>\n",
       "      <td>6</td>\n",
       "      <td>got wild hair taffy ordered five pound bag taf...</td>\n",
       "    </tr>\n",
       "    <tr>\n",
       "      <th>6</th>\n",
       "      <td>7</td>\n",
       "      <td>saltwater taffy great flavors soft chewy candy...</td>\n",
       "    </tr>\n",
       "    <tr>\n",
       "      <th>7</th>\n",
       "      <td>8</td>\n",
       "      <td>taffy good soft chewy flavors amazing would de...</td>\n",
       "    </tr>\n",
       "    <tr>\n",
       "      <th>8</th>\n",
       "      <td>9</td>\n",
       "      <td>right mostly sprouting cats eat grass love rot...</td>\n",
       "    </tr>\n",
       "    <tr>\n",
       "      <th>9</th>\n",
       "      <td>10</td>\n",
       "      <td>healthy dog food good digestion also good smal...</td>\n",
       "    </tr>\n",
       "  </tbody>\n",
       "</table>\n",
       "</div>"
      ],
      "text/plain": [
       "   Id                                     Processed Text\n",
       "0   1  bought several vitality canned dog food produc...\n",
       "1   3  confection around centuries light pillowy citr...\n",
       "2   4  looking secret ingredient robitussin believe f...\n",
       "3   2  product arrived labeled jumbo salted peanuts p...\n",
       "4   5  great taffy great price wide assortment yummy ...\n",
       "5   6  got wild hair taffy ordered five pound bag taf...\n",
       "6   7  saltwater taffy great flavors soft chewy candy...\n",
       "7   8  taffy good soft chewy flavors amazing would de...\n",
       "8   9  right mostly sprouting cats eat grass love rot...\n",
       "9  10  healthy dog food good digestion also good smal..."
      ]
     },
     "execution_count": 32,
     "metadata": {},
     "output_type": "execute_result"
    }
   ],
   "source": [
    "processed_text_dataframe.head(10)"
   ]
  },
  {
   "cell_type": "markdown",
   "metadata": {
    "id": "Ueb6nU1UD7DH"
   },
   "source": [
    "### Count the ocurrences of each term for each and all reviews"
   ]
  },
  {
   "cell_type": "code",
   "execution_count": 33,
   "metadata": {
    "id": "_dz0DggMbD9-"
   },
   "outputs": [
    {
     "name": "stdout",
     "output_type": "stream",
     "text": [
      "CPU times: user 16.7 s, sys: 264 ms, total: 17 s\n",
      "Wall time: 17 s\n"
     ]
    }
   ],
   "source": [
    "%%time\n",
    "#Processed Word Count\n",
    "vectorizer_processed = CountVectorizer()\n",
    "processed_counts = vectorizer_processed.fit_transform(preprocessed_corpus)"
   ]
  },
  {
   "cell_type": "code",
   "execution_count": 34,
   "metadata": {
    "id": "e7X3iNgZs0i4"
   },
   "outputs": [],
   "source": [
    "#Processed Vocabulary\n",
    "feature_names_processed = list(vectorizer_processed.get_feature_names_out())"
   ]
  },
  {
   "cell_type": "code",
   "execution_count": 37,
   "metadata": {
    "id": "jVkmrfcBxEBU"
   },
   "outputs": [],
   "source": [
    "#Save processed vocabulary\n",
    "vocab_df = pd.DataFrame(feature_names_processed, columns=['Term'])\n",
    "vocab_df.to_csv(file_vocabulary_processed, index=False)"
   ]
  },
  {
   "cell_type": "code",
   "execution_count": 38,
   "metadata": {
    "colab": {
     "base_uri": "https://localhost:8080/"
    },
    "id": "GBOedjHgO5nr",
    "outputId": "12a18ddc-6cd1-4d26-de3a-5500f0535721"
   },
   "outputs": [
    {
     "data": {
      "text/plain": [
       "107110"
      ]
     },
     "execution_count": 38,
     "metadata": {},
     "output_type": "execute_result"
    }
   ],
   "source": [
    "len(feature_names_processed)"
   ]
  },
  {
   "cell_type": "markdown",
   "metadata": {
    "id": "IsESF-WIFj67"
   },
   "source": [
    "# Saving the Term Count Per Review"
   ]
  },
  {
   "cell_type": "code",
   "execution_count": 39,
   "metadata": {
    "id": "_HfkQVYx1Wx6"
   },
   "outputs": [],
   "source": [
    "import numpy as np"
   ]
  },
  {
   "cell_type": "markdown",
   "metadata": {
    "id": "S4LZ4xRLw9No"
   },
   "source": [
    "## Saving the counts for all reviews"
   ]
  },
  {
   "cell_type": "code",
   "execution_count": 41,
   "metadata": {
    "id": "BHr-bfoTHYLz"
   },
   "outputs": [],
   "source": [
    "#This code shoud work if there is enough RAM available\n",
    "def save_term_counts_csv():\n",
    "  term_counts_array = processed_counts.toarray()\n",
    "\n",
    "  #Turn the array into a pandas dataframe\n",
    "  term_counts_dataframe = pd.DataFrame(term_counts_array, columns=feature_names_processed)\n",
    "\n",
    "  #Append the review ID at the beginning for cross referencing\n",
    "  term_counts_dataframe = pd.concat([reviews[\"Id\"], term_counts_dataframe], axis=1)\n",
    "\n",
    "  #Save the review as\n",
    "  term_counts_dataframe.to_csv(file_term_counts_per_review, index=False)"
   ]
  },
  {
   "cell_type": "markdown",
   "metadata": {
    "id": "p2k9fAZuxtyR"
   },
   "source": [
    "## Save the term counts of a particular set of reviews"
   ]
  },
  {
   "cell_type": "code",
   "execution_count": 44,
   "metadata": {
    "id": "1cPjh_V7GoTM"
   },
   "outputs": [],
   "source": [
    "def get_review_term_counts(review_ids, filename):\n",
    "  #List the reviews' row Ids\n",
    "  index_list = [int(df.index[df['Id'] == id][0]) for id in review_ids]\n",
    "\n",
    "  #Get a list of terms that are in at least one of the reviews\n",
    "  vocab_id_list = []\n",
    "\n",
    "  for ind in index_list:\n",
    "    review_vocab = processed_counts[ind, :]\n",
    "    vocab_ids = [vocab_id for vocab_id in review_vocab.nonzero()[1]]\n",
    "\n",
    "    for vocab_id in vocab_ids:\n",
    "      if vocab_id not in vocab_id_list:\n",
    "        vocab_id_list.append(vocab_id)\n",
    "\n",
    "  #For each term, get the count of it in each review\n",
    "  id_term_counts = {}\n",
    "\n",
    "  #First put the review Ids\n",
    "  id_term_counts['Id'] = review_ids\n",
    "\n",
    "  for vocab_id in vocab_id_list:\n",
    "    vocab_counts = []\n",
    "\n",
    "    for ind in index_list:\n",
    "      vocab_counts.append(processed_counts[int(ind), int(vocab_id)])\n",
    "\n",
    "    id_term_counts[feature_names_processed[int(vocab_id)]] = vocab_counts\n",
    "\n",
    "  #Turn into a pandas DataFrame\n",
    "  counts_dataframe = pd.DataFrame.from_dict(id_term_counts)\n",
    "\n",
    "  counts_dataframe.to_csv(f'{filename}.csv', index=False)\n",
    "\n",
    "  return(counts_dataframe)\n"
   ]
  },
  {
   "cell_type": "code",
   "execution_count": 45,
   "metadata": {
    "colab": {
     "base_uri": "https://localhost:8080/",
     "height": 130
    },
    "id": "ffSWLXNnHBbT",
    "outputId": "a4566226-da3c-4e28-efdb-eebd5473f7d0"
   },
   "outputs": [
    {
     "data": {
      "text/html": [
       "<div>\n",
       "<style scoped>\n",
       "    .dataframe tbody tr th:only-of-type {\n",
       "        vertical-align: middle;\n",
       "    }\n",
       "\n",
       "    .dataframe tbody tr th {\n",
       "        vertical-align: top;\n",
       "    }\n",
       "\n",
       "    .dataframe thead th {\n",
       "        text-align: right;\n",
       "    }\n",
       "</style>\n",
       "<table border=\"1\" class=\"dataframe\">\n",
       "  <thead>\n",
       "    <tr style=\"text-align: right;\">\n",
       "      <th></th>\n",
       "      <th>Id</th>\n",
       "      <th>product</th>\n",
       "      <th>highly</th>\n",
       "      <th>recommend</th>\n",
       "      <th>flavor</th>\n",
       "      <th>bag</th>\n",
       "      <th>black</th>\n",
       "      <th>one</th>\n",
       "      <th>really</th>\n",
       "      <th>never</th>\n",
       "      <th>...</th>\n",
       "      <th>herbal</th>\n",
       "      <th>result</th>\n",
       "      <th>brew</th>\n",
       "      <th>traditional</th>\n",
       "      <th>stated</th>\n",
       "      <th>darjeeling</th>\n",
       "      <th>tolerate</th>\n",
       "      <th>peach</th>\n",
       "      <th>genuine</th>\n",
       "      <th>fruitty</th>\n",
       "    </tr>\n",
       "  </thead>\n",
       "  <tbody>\n",
       "    <tr>\n",
       "      <th>0</th>\n",
       "      <td>69726</td>\n",
       "      <td>1</td>\n",
       "      <td>1</td>\n",
       "      <td>1</td>\n",
       "      <td>2</td>\n",
       "      <td>1</td>\n",
       "      <td>3</td>\n",
       "      <td>1</td>\n",
       "      <td>1</td>\n",
       "      <td>1</td>\n",
       "      <td>...</td>\n",
       "      <td>1</td>\n",
       "      <td>1</td>\n",
       "      <td>1</td>\n",
       "      <td>1</td>\n",
       "      <td>1</td>\n",
       "      <td>1</td>\n",
       "      <td>1</td>\n",
       "      <td>4</td>\n",
       "      <td>1</td>\n",
       "      <td>1</td>\n",
       "    </tr>\n",
       "  </tbody>\n",
       "</table>\n",
       "<p>1 rows × 38 columns</p>\n",
       "</div>"
      ],
      "text/plain": [
       "      Id  product  highly  recommend  flavor  bag  black  one  really  never  \\\n",
       "0  69726        1       1          1       2    1      3    1       1      1   \n",
       "\n",
       "   ...  herbal  result  brew  traditional  stated  darjeeling  tolerate  \\\n",
       "0  ...       1       1     1            1       1           1         1   \n",
       "\n",
       "   peach  genuine  fruitty  \n",
       "0      4        1        1  \n",
       "\n",
       "[1 rows x 38 columns]"
      ]
     },
     "execution_count": 45,
     "metadata": {},
     "output_type": "execute_result"
    }
   ],
   "source": [
    "#Test\n",
    "get_review_term_counts([69726], 'review_69726')"
   ]
  },
  {
   "cell_type": "code",
   "execution_count": null,
   "metadata": {},
   "outputs": [],
   "source": []
  }
 ],
 "metadata": {
  "colab": {
   "provenance": []
  },
  "kernelspec": {
   "display_name": "Python 3",
   "language": "python",
   "name": "python3"
  },
  "language_info": {
   "codemirror_mode": {
    "name": "ipython",
    "version": 3
   },
   "file_extension": ".py",
   "mimetype": "text/x-python",
   "name": "python",
   "nbconvert_exporter": "python",
   "pygments_lexer": "ipython3",
   "version": "3.11.7"
  }
 },
 "nbformat": 4,
 "nbformat_minor": 4
}

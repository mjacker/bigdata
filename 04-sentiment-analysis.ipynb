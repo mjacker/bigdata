{
 "cells": [
  {
   "cell_type": "code",
   "execution_count": 1,
   "metadata": {
    "id": "XLSK-K3slOU6"
   },
   "outputs": [],
   "source": [
    "import pandas as pd"
   ]
  },
  {
   "cell_type": "code",
   "execution_count": 31,
   "metadata": {
    "id": "dlxQhAHYpkLS"
   },
   "outputs": [],
   "source": [
    "file_dataset = \"df_processed.csv\"\n",
    "file_out = \"df_processed_polarity_and_satisfaction.csv\""
   ]
  },
  {
   "cell_type": "code",
   "execution_count": 3,
   "metadata": {
    "id": "0g7obSvwpJ6k"
   },
   "outputs": [],
   "source": [
    "dataset = pd.read_csv(file_dataset)"
   ]
  },
  {
   "cell_type": "markdown",
   "metadata": {
    "id": "xOE5PEhuA8EE"
   },
   "source": [
    "# POLARITY OF THE REVIEWS"
   ]
  },
  {
   "cell_type": "code",
   "execution_count": 4,
   "metadata": {
    "colab": {
     "base_uri": "https://localhost:8080/"
    },
    "id": "8DtmJHf9yjh0",
    "outputId": "eea27dfb-44fe-4dd6-c4ed-f833e3d13b64"
   },
   "outputs": [
    {
     "name": "stderr",
     "output_type": "stream",
     "text": [
      "[nltk_data] Downloading package vader_lexicon to\n",
      "[nltk_data]     /home/mjubuntu18/nltk_data...\n",
      "[nltk_data]   Package vader_lexicon is already up-to-date!\n"
     ]
    },
    {
     "data": {
      "text/plain": [
       "True"
      ]
     },
     "execution_count": 4,
     "metadata": {},
     "output_type": "execute_result"
    }
   ],
   "source": [
    "#VADER for positive/negative sentiment analysis\n",
    "import nltk\n",
    "from nltk.sentiment.vader import SentimentIntensityAnalyzer\n",
    "\n",
    "nltk.download('vader_lexicon')"
   ]
  },
  {
   "cell_type": "code",
   "execution_count": 5,
   "metadata": {
    "id": "gaOJeWNlqblg"
   },
   "outputs": [],
   "source": [
    "#Reviews\n",
    "reviews = dataset[['Id','Text']]"
   ]
  },
  {
   "cell_type": "code",
   "execution_count": 30,
   "metadata": {},
   "outputs": [
    {
     "data": {
      "text/html": [
       "<div>\n",
       "<style scoped>\n",
       "    .dataframe tbody tr th:only-of-type {\n",
       "        vertical-align: middle;\n",
       "    }\n",
       "\n",
       "    .dataframe tbody tr th {\n",
       "        vertical-align: top;\n",
       "    }\n",
       "\n",
       "    .dataframe thead th {\n",
       "        text-align: right;\n",
       "    }\n",
       "</style>\n",
       "<table border=\"1\" class=\"dataframe\">\n",
       "  <thead>\n",
       "    <tr style=\"text-align: right;\">\n",
       "      <th></th>\n",
       "      <th>Id</th>\n",
       "      <th>Text</th>\n",
       "    </tr>\n",
       "  </thead>\n",
       "  <tbody>\n",
       "    <tr>\n",
       "      <th>0</th>\n",
       "      <td>1</td>\n",
       "      <td>I have bought several of the Vitality canned d...</td>\n",
       "    </tr>\n",
       "    <tr>\n",
       "      <th>1</th>\n",
       "      <td>3</td>\n",
       "      <td>This is a confection that has been around a fe...</td>\n",
       "    </tr>\n",
       "    <tr>\n",
       "      <th>2</th>\n",
       "      <td>4</td>\n",
       "      <td>If you are looking for the secret ingredient i...</td>\n",
       "    </tr>\n",
       "    <tr>\n",
       "      <th>3</th>\n",
       "      <td>2</td>\n",
       "      <td>Product arrived labeled as Jumbo Salted Peanut...</td>\n",
       "    </tr>\n",
       "    <tr>\n",
       "      <th>4</th>\n",
       "      <td>5</td>\n",
       "      <td>Great taffy at a great price.  There was a wid...</td>\n",
       "    </tr>\n",
       "  </tbody>\n",
       "</table>\n",
       "</div>"
      ],
      "text/plain": [
       "   Id                                               Text\n",
       "0   1  I have bought several of the Vitality canned d...\n",
       "1   3  This is a confection that has been around a fe...\n",
       "2   4  If you are looking for the secret ingredient i...\n",
       "3   2  Product arrived labeled as Jumbo Salted Peanut...\n",
       "4   5  Great taffy at a great price.  There was a wid..."
      ]
     },
     "execution_count": 30,
     "metadata": {},
     "output_type": "execute_result"
    }
   ],
   "source": [
    "reviews.head()"
   ]
  },
  {
   "cell_type": "code",
   "execution_count": 6,
   "metadata": {
    "id": "pBESEAaNydlN"
   },
   "outputs": [],
   "source": [
    "#Vader Sentiment Analyzer\n",
    "analyzer = SentimentIntensityAnalyzer()"
   ]
  },
  {
   "cell_type": "code",
   "execution_count": 7,
   "metadata": {
    "id": "Ry2kLIz926Zh"
   },
   "outputs": [],
   "source": [
    "#Store the polarity of the reviews\n",
    "reviews_polarity = []"
   ]
  },
  {
   "cell_type": "code",
   "execution_count": 8,
   "metadata": {
    "colab": {
     "base_uri": "https://localhost:8080/"
    },
    "id": "jGXxos0Cy--6",
    "outputId": "9a665f73-fa23-41fa-9a6c-4777bccce688"
   },
   "outputs": [
    {
     "name": "stdout",
     "output_type": "stream",
     "text": [
      "CPU times: user 5min 55s, sys: 156 ms, total: 5min 55s\n",
      "Wall time: 5min 55s\n"
     ]
    }
   ],
   "source": [
    "%%time\n",
    "#Store the compound polarity for each review\n",
    "#Note: this takes around 12 minutes (Google Colab)\n",
    "for index in range(len(reviews)):\n",
    "  review = reviews.loc[index, 'Text']\n",
    "  scores = analyzer.polarity_scores(review)\n",
    "  compound_score = scores['compound']\n",
    "  reviews_polarity.append(compound_score)"
   ]
  },
  {
   "cell_type": "code",
   "execution_count": 9,
   "metadata": {
    "colab": {
     "base_uri": "https://localhost:8080/"
    },
    "id": "308Jf4XZ3HCH",
    "outputId": "35bfea1a-0dd7-4180-ff2c-5656f213fd75"
   },
   "outputs": [
    {
     "name": "stdout",
     "output_type": "stream",
     "text": [
      "Calculated polarity of 568377 reviews\n"
     ]
    }
   ],
   "source": [
    "#Check that all reviews have a polarity\n",
    "print(\"Calculated polarity of\", len(reviews_polarity), \"reviews\")"
   ]
  },
  {
   "cell_type": "code",
   "execution_count": 10,
   "metadata": {
    "id": "JimJour7LTNL"
   },
   "outputs": [],
   "source": [
    "#Turn array into dataframe\n",
    "polarity_dataframe = pd.DataFrame(reviews_polarity, columns = ['Polarity'])\n",
    "\n",
    "#Add review Ids to the dataframe\n",
    "polarity_dataframe = pd.concat([reviews[\"Id\"], polarity_dataframe], axis=1)\n",
    "\n",
    "#Add the polarity to the original dataframe\n",
    "dataframe_with_polarity = pd.concat([dataset, polarity_dataframe[\"Polarity\"]], axis=1)"
   ]
  },
  {
   "cell_type": "code",
   "execution_count": 11,
   "metadata": {
    "colab": {
     "base_uri": "https://localhost:8080/",
     "height": 423
    },
    "id": "4ybmBr8rjdni",
    "outputId": "6f5a6318-608d-4c9a-9ad3-cb177fa37d4b"
   },
   "outputs": [
    {
     "data": {
      "text/html": [
       "<div>\n",
       "<style scoped>\n",
       "    .dataframe tbody tr th:only-of-type {\n",
       "        vertical-align: middle;\n",
       "    }\n",
       "\n",
       "    .dataframe tbody tr th {\n",
       "        vertical-align: top;\n",
       "    }\n",
       "\n",
       "    .dataframe thead th {\n",
       "        text-align: right;\n",
       "    }\n",
       "</style>\n",
       "<table border=\"1\" class=\"dataframe\">\n",
       "  <thead>\n",
       "    <tr style=\"text-align: right;\">\n",
       "      <th></th>\n",
       "      <th>Id</th>\n",
       "      <th>Polarity</th>\n",
       "    </tr>\n",
       "  </thead>\n",
       "  <tbody>\n",
       "    <tr>\n",
       "      <th>0</th>\n",
       "      <td>1</td>\n",
       "      <td>0.9441</td>\n",
       "    </tr>\n",
       "    <tr>\n",
       "      <th>1</th>\n",
       "      <td>3</td>\n",
       "      <td>0.8265</td>\n",
       "    </tr>\n",
       "    <tr>\n",
       "      <th>2</th>\n",
       "      <td>4</td>\n",
       "      <td>0.0000</td>\n",
       "    </tr>\n",
       "    <tr>\n",
       "      <th>3</th>\n",
       "      <td>2</td>\n",
       "      <td>-0.5664</td>\n",
       "    </tr>\n",
       "    <tr>\n",
       "      <th>4</th>\n",
       "      <td>5</td>\n",
       "      <td>0.9468</td>\n",
       "    </tr>\n",
       "    <tr>\n",
       "      <th>...</th>\n",
       "      <td>...</td>\n",
       "      <td>...</td>\n",
       "    </tr>\n",
       "    <tr>\n",
       "      <th>568372</th>\n",
       "      <td>568452</td>\n",
       "      <td>0.4352</td>\n",
       "    </tr>\n",
       "    <tr>\n",
       "      <th>568373</th>\n",
       "      <td>568451</td>\n",
       "      <td>-0.4848</td>\n",
       "    </tr>\n",
       "    <tr>\n",
       "      <th>568374</th>\n",
       "      <td>568453</td>\n",
       "      <td>0.9717</td>\n",
       "    </tr>\n",
       "    <tr>\n",
       "      <th>568375</th>\n",
       "      <td>568454</td>\n",
       "      <td>0.4754</td>\n",
       "    </tr>\n",
       "    <tr>\n",
       "      <th>568376</th>\n",
       "      <td>568450</td>\n",
       "      <td>0.8589</td>\n",
       "    </tr>\n",
       "  </tbody>\n",
       "</table>\n",
       "<p>568377 rows × 2 columns</p>\n",
       "</div>"
      ],
      "text/plain": [
       "            Id  Polarity\n",
       "0            1    0.9441\n",
       "1            3    0.8265\n",
       "2            4    0.0000\n",
       "3            2   -0.5664\n",
       "4            5    0.9468\n",
       "...        ...       ...\n",
       "568372  568452    0.4352\n",
       "568373  568451   -0.4848\n",
       "568374  568453    0.9717\n",
       "568375  568454    0.4754\n",
       "568376  568450    0.8589\n",
       "\n",
       "[568377 rows x 2 columns]"
      ]
     },
     "execution_count": 11,
     "metadata": {},
     "output_type": "execute_result"
    }
   ],
   "source": [
    "polarity_dataframe"
   ]
  },
  {
   "cell_type": "code",
   "execution_count": 12,
   "metadata": {},
   "outputs": [
    {
     "data": {
      "text/html": [
       "<div>\n",
       "<style scoped>\n",
       "    .dataframe tbody tr th:only-of-type {\n",
       "        vertical-align: middle;\n",
       "    }\n",
       "\n",
       "    .dataframe tbody tr th {\n",
       "        vertical-align: top;\n",
       "    }\n",
       "\n",
       "    .dataframe thead th {\n",
       "        text-align: right;\n",
       "    }\n",
       "</style>\n",
       "<table border=\"1\" class=\"dataframe\">\n",
       "  <thead>\n",
       "    <tr style=\"text-align: right;\">\n",
       "      <th></th>\n",
       "      <th>Id</th>\n",
       "      <th>Polarity</th>\n",
       "    </tr>\n",
       "  </thead>\n",
       "  <tbody>\n",
       "    <tr>\n",
       "      <th>0</th>\n",
       "      <td>1</td>\n",
       "      <td>0.9441</td>\n",
       "    </tr>\n",
       "    <tr>\n",
       "      <th>1</th>\n",
       "      <td>3</td>\n",
       "      <td>0.8265</td>\n",
       "    </tr>\n",
       "    <tr>\n",
       "      <th>2</th>\n",
       "      <td>4</td>\n",
       "      <td>0.0000</td>\n",
       "    </tr>\n",
       "    <tr>\n",
       "      <th>3</th>\n",
       "      <td>2</td>\n",
       "      <td>-0.5664</td>\n",
       "    </tr>\n",
       "    <tr>\n",
       "      <th>4</th>\n",
       "      <td>5</td>\n",
       "      <td>0.9468</td>\n",
       "    </tr>\n",
       "  </tbody>\n",
       "</table>\n",
       "</div>"
      ],
      "text/plain": [
       "   Id  Polarity\n",
       "0   1    0.9441\n",
       "1   3    0.8265\n",
       "2   4    0.0000\n",
       "3   2   -0.5664\n",
       "4   5    0.9468"
      ]
     },
     "execution_count": 12,
     "metadata": {},
     "output_type": "execute_result"
    }
   ],
   "source": [
    "polarity_dataframe.head()"
   ]
  },
  {
   "cell_type": "code",
   "execution_count": 13,
   "metadata": {},
   "outputs": [],
   "source": [
    "dataframe_with_polarity.drop(\"Unnamed: 0\",axis=1,inplace=True)"
   ]
  },
  {
   "cell_type": "code",
   "execution_count": 14,
   "metadata": {},
   "outputs": [
    {
     "data": {
      "text/html": [
       "<div>\n",
       "<style scoped>\n",
       "    .dataframe tbody tr th:only-of-type {\n",
       "        vertical-align: middle;\n",
       "    }\n",
       "\n",
       "    .dataframe tbody tr th {\n",
       "        vertical-align: top;\n",
       "    }\n",
       "\n",
       "    .dataframe thead th {\n",
       "        text-align: right;\n",
       "    }\n",
       "</style>\n",
       "<table border=\"1\" class=\"dataframe\">\n",
       "  <thead>\n",
       "    <tr style=\"text-align: right;\">\n",
       "      <th></th>\n",
       "      <th>_id</th>\n",
       "      <th>Id</th>\n",
       "      <th>ProductId</th>\n",
       "      <th>UserId</th>\n",
       "      <th>ProfileName</th>\n",
       "      <th>HelpfulnessNumerator</th>\n",
       "      <th>HelpfulnessDenominator</th>\n",
       "      <th>Score</th>\n",
       "      <th>Time</th>\n",
       "      <th>Summary</th>\n",
       "      <th>Text</th>\n",
       "      <th>ProductURL</th>\n",
       "      <th>Year</th>\n",
       "      <th>Month</th>\n",
       "      <th>Day</th>\n",
       "      <th>Polarity</th>\n",
       "    </tr>\n",
       "  </thead>\n",
       "  <tbody>\n",
       "    <tr>\n",
       "      <th>0</th>\n",
       "      <td>0</td>\n",
       "      <td>1</td>\n",
       "      <td>B001E4KFG0</td>\n",
       "      <td>A3SGXH7AUHU8GW</td>\n",
       "      <td>delmartian</td>\n",
       "      <td>1</td>\n",
       "      <td>1</td>\n",
       "      <td>5</td>\n",
       "      <td>2011-04-27</td>\n",
       "      <td>Good Quality Dog Food</td>\n",
       "      <td>I have bought several of the Vitality canned d...</td>\n",
       "      <td>https://www.amazon.com/dp/B001E4KFG0</td>\n",
       "      <td>2011</td>\n",
       "      <td>4</td>\n",
       "      <td>27</td>\n",
       "      <td>0.9441</td>\n",
       "    </tr>\n",
       "    <tr>\n",
       "      <th>1</th>\n",
       "      <td>2</td>\n",
       "      <td>3</td>\n",
       "      <td>B000LQOCH0</td>\n",
       "      <td>ABXLMWJIXXAIN</td>\n",
       "      <td>Natalia Corres \"Natalia Corres\"</td>\n",
       "      <td>1</td>\n",
       "      <td>1</td>\n",
       "      <td>4</td>\n",
       "      <td>2008-08-18</td>\n",
       "      <td>\"Delight\" says it all</td>\n",
       "      <td>This is a confection that has been around a fe...</td>\n",
       "      <td>https://www.amazon.com/dp/B000LQOCH0</td>\n",
       "      <td>2008</td>\n",
       "      <td>8</td>\n",
       "      <td>18</td>\n",
       "      <td>0.8265</td>\n",
       "    </tr>\n",
       "    <tr>\n",
       "      <th>2</th>\n",
       "      <td>3</td>\n",
       "      <td>4</td>\n",
       "      <td>B000UA0QIQ</td>\n",
       "      <td>A395BORC6FGVXV</td>\n",
       "      <td>Karl</td>\n",
       "      <td>3</td>\n",
       "      <td>3</td>\n",
       "      <td>2</td>\n",
       "      <td>2011-06-13</td>\n",
       "      <td>Cough Medicine</td>\n",
       "      <td>If you are looking for the secret ingredient i...</td>\n",
       "      <td>https://www.amazon.com/dp/B000UA0QIQ</td>\n",
       "      <td>2011</td>\n",
       "      <td>6</td>\n",
       "      <td>13</td>\n",
       "      <td>0.0000</td>\n",
       "    </tr>\n",
       "    <tr>\n",
       "      <th>3</th>\n",
       "      <td>1</td>\n",
       "      <td>2</td>\n",
       "      <td>B00813GRG4</td>\n",
       "      <td>A1D87F6ZCVE5NK</td>\n",
       "      <td>dll pa</td>\n",
       "      <td>0</td>\n",
       "      <td>0</td>\n",
       "      <td>1</td>\n",
       "      <td>2012-09-07</td>\n",
       "      <td>Not as Advertised</td>\n",
       "      <td>Product arrived labeled as Jumbo Salted Peanut...</td>\n",
       "      <td>https://www.amazon.com/dp/B00813GRG4</td>\n",
       "      <td>2012</td>\n",
       "      <td>9</td>\n",
       "      <td>7</td>\n",
       "      <td>-0.5664</td>\n",
       "    </tr>\n",
       "    <tr>\n",
       "      <th>4</th>\n",
       "      <td>4</td>\n",
       "      <td>5</td>\n",
       "      <td>B006K2ZZ7K</td>\n",
       "      <td>A1UQRSCLF8GW1T</td>\n",
       "      <td>Michael D. Bigham \"M. Wassir\"</td>\n",
       "      <td>0</td>\n",
       "      <td>0</td>\n",
       "      <td>5</td>\n",
       "      <td>2012-10-21</td>\n",
       "      <td>Great taffy</td>\n",
       "      <td>Great taffy at a great price.  There was a wid...</td>\n",
       "      <td>https://www.amazon.com/dp/B006K2ZZ7K</td>\n",
       "      <td>2012</td>\n",
       "      <td>10</td>\n",
       "      <td>21</td>\n",
       "      <td>0.9468</td>\n",
       "    </tr>\n",
       "  </tbody>\n",
       "</table>\n",
       "</div>"
      ],
      "text/plain": [
       "   _id  Id   ProductId          UserId                      ProfileName  \\\n",
       "0    0   1  B001E4KFG0  A3SGXH7AUHU8GW                       delmartian   \n",
       "1    2   3  B000LQOCH0   ABXLMWJIXXAIN  Natalia Corres \"Natalia Corres\"   \n",
       "2    3   4  B000UA0QIQ  A395BORC6FGVXV                             Karl   \n",
       "3    1   2  B00813GRG4  A1D87F6ZCVE5NK                           dll pa   \n",
       "4    4   5  B006K2ZZ7K  A1UQRSCLF8GW1T    Michael D. Bigham \"M. Wassir\"   \n",
       "\n",
       "   HelpfulnessNumerator  HelpfulnessDenominator  Score        Time  \\\n",
       "0                     1                       1      5  2011-04-27   \n",
       "1                     1                       1      4  2008-08-18   \n",
       "2                     3                       3      2  2011-06-13   \n",
       "3                     0                       0      1  2012-09-07   \n",
       "4                     0                       0      5  2012-10-21   \n",
       "\n",
       "                 Summary                                               Text  \\\n",
       "0  Good Quality Dog Food  I have bought several of the Vitality canned d...   \n",
       "1  \"Delight\" says it all  This is a confection that has been around a fe...   \n",
       "2         Cough Medicine  If you are looking for the secret ingredient i...   \n",
       "3      Not as Advertised  Product arrived labeled as Jumbo Salted Peanut...   \n",
       "4            Great taffy  Great taffy at a great price.  There was a wid...   \n",
       "\n",
       "                             ProductURL  Year  Month  Day  Polarity  \n",
       "0  https://www.amazon.com/dp/B001E4KFG0  2011      4   27    0.9441  \n",
       "1  https://www.amazon.com/dp/B000LQOCH0  2008      8   18    0.8265  \n",
       "2  https://www.amazon.com/dp/B000UA0QIQ  2011      6   13    0.0000  \n",
       "3  https://www.amazon.com/dp/B00813GRG4  2012      9    7   -0.5664  \n",
       "4  https://www.amazon.com/dp/B006K2ZZ7K  2012     10   21    0.9468  "
      ]
     },
     "execution_count": 14,
     "metadata": {},
     "output_type": "execute_result"
    }
   ],
   "source": [
    "dataframe_with_polarity.head()"
   ]
  },
  {
   "cell_type": "code",
   "execution_count": 15,
   "metadata": {
    "id": "9XFqxL6oYjFo"
   },
   "outputs": [],
   "source": [
    "#Save the polarity onto a csv file\n",
    "# polarity_dataframe.to_csv('polarity.csv', index=False)  # not needed for now\n",
    "\n",
    "#Save the whole dataframe with polarity to a csv file\n",
    "# dataframe_with_polarity.to_csv(file_out, index=False)"
   ]
  },
  {
   "cell_type": "markdown",
   "metadata": {},
   "source": [
    "## small dataframe resume\n"
   ]
  },
  {
   "cell_type": "code",
   "execution_count": 16,
   "metadata": {
    "id": "LcWPvHJRcWSL"
   },
   "outputs": [],
   "source": [
    "polarity_and_score_df = pd.concat([polarity_dataframe, dataset[\"Score\"]], axis=1)"
   ]
  },
  {
   "cell_type": "code",
   "execution_count": 17,
   "metadata": {
    "colab": {
     "base_uri": "https://localhost:8080/",
     "height": 423
    },
    "id": "tVFLXo0yjjFt",
    "outputId": "d1f1015a-f321-413b-c50d-00fa9cc3bf88"
   },
   "outputs": [
    {
     "data": {
      "text/html": [
       "<div>\n",
       "<style scoped>\n",
       "    .dataframe tbody tr th:only-of-type {\n",
       "        vertical-align: middle;\n",
       "    }\n",
       "\n",
       "    .dataframe tbody tr th {\n",
       "        vertical-align: top;\n",
       "    }\n",
       "\n",
       "    .dataframe thead th {\n",
       "        text-align: right;\n",
       "    }\n",
       "</style>\n",
       "<table border=\"1\" class=\"dataframe\">\n",
       "  <thead>\n",
       "    <tr style=\"text-align: right;\">\n",
       "      <th></th>\n",
       "      <th>Id</th>\n",
       "      <th>Polarity</th>\n",
       "      <th>Score</th>\n",
       "    </tr>\n",
       "  </thead>\n",
       "  <tbody>\n",
       "    <tr>\n",
       "      <th>0</th>\n",
       "      <td>1</td>\n",
       "      <td>0.9441</td>\n",
       "      <td>5</td>\n",
       "    </tr>\n",
       "    <tr>\n",
       "      <th>1</th>\n",
       "      <td>3</td>\n",
       "      <td>0.8265</td>\n",
       "      <td>4</td>\n",
       "    </tr>\n",
       "    <tr>\n",
       "      <th>2</th>\n",
       "      <td>4</td>\n",
       "      <td>0.0000</td>\n",
       "      <td>2</td>\n",
       "    </tr>\n",
       "    <tr>\n",
       "      <th>3</th>\n",
       "      <td>2</td>\n",
       "      <td>-0.5664</td>\n",
       "      <td>1</td>\n",
       "    </tr>\n",
       "    <tr>\n",
       "      <th>4</th>\n",
       "      <td>5</td>\n",
       "      <td>0.9468</td>\n",
       "      <td>5</td>\n",
       "    </tr>\n",
       "    <tr>\n",
       "      <th>...</th>\n",
       "      <td>...</td>\n",
       "      <td>...</td>\n",
       "      <td>...</td>\n",
       "    </tr>\n",
       "    <tr>\n",
       "      <th>568372</th>\n",
       "      <td>568452</td>\n",
       "      <td>0.4352</td>\n",
       "      <td>5</td>\n",
       "    </tr>\n",
       "    <tr>\n",
       "      <th>568373</th>\n",
       "      <td>568451</td>\n",
       "      <td>-0.4848</td>\n",
       "      <td>2</td>\n",
       "    </tr>\n",
       "    <tr>\n",
       "      <th>568374</th>\n",
       "      <td>568453</td>\n",
       "      <td>0.9717</td>\n",
       "      <td>5</td>\n",
       "    </tr>\n",
       "    <tr>\n",
       "      <th>568375</th>\n",
       "      <td>568454</td>\n",
       "      <td>0.4754</td>\n",
       "      <td>5</td>\n",
       "    </tr>\n",
       "    <tr>\n",
       "      <th>568376</th>\n",
       "      <td>568450</td>\n",
       "      <td>0.8589</td>\n",
       "      <td>5</td>\n",
       "    </tr>\n",
       "  </tbody>\n",
       "</table>\n",
       "<p>568377 rows × 3 columns</p>\n",
       "</div>"
      ],
      "text/plain": [
       "            Id  Polarity  Score\n",
       "0            1    0.9441      5\n",
       "1            3    0.8265      4\n",
       "2            4    0.0000      2\n",
       "3            2   -0.5664      1\n",
       "4            5    0.9468      5\n",
       "...        ...       ...    ...\n",
       "568372  568452    0.4352      5\n",
       "568373  568451   -0.4848      2\n",
       "568374  568453    0.9717      5\n",
       "568375  568454    0.4754      5\n",
       "568376  568450    0.8589      5\n",
       "\n",
       "[568377 rows x 3 columns]"
      ]
     },
     "execution_count": 17,
     "metadata": {},
     "output_type": "execute_result"
    }
   ],
   "source": [
    "polarity_and_score_df"
   ]
  },
  {
   "cell_type": "code",
   "execution_count": null,
   "metadata": {},
   "outputs": [],
   "source": []
  },
  {
   "cell_type": "code",
   "execution_count": 18,
   "metadata": {
    "colab": {
     "base_uri": "https://localhost:8080/"
    },
    "id": "r6diE5Aje8PZ",
    "outputId": "86e25b8c-8018-49c9-8b01-8de6f3d303f9"
   },
   "outputs": [
    {
     "name": "stdout",
     "output_type": "stream",
     "text": [
      "CPU times: user 9.19 s, sys: 43.9 ms, total: 9.24 s\n",
      "Wall time: 9.27 s\n"
     ]
    }
   ],
   "source": [
    "%%time\n",
    "customer_satisfied = []\n",
    "\n",
    "for ind in range(len(polarity_and_score_df)):\n",
    "  polarity = polarity_and_score_df.loc[ind, 'Polarity']\n",
    "  score = polarity_and_score_df.loc[ind, 'Score']\n",
    "\n",
    "  percentage_polarity = ((polarity - (-1)) * 100) / (1 - (-1))\n",
    "  percentage_score = ((score - (1)) * 100) / (5 - (1))\n",
    "\n",
    "  average_percentage = (percentage_polarity + percentage_score)/200\n",
    "\n",
    "  if (average_percentage >= 0.61):\n",
    "    customer_satisfied.append(1)\n",
    "  else:\n",
    "    customer_satisfied.append(0)"
   ]
  },
  {
   "cell_type": "code",
   "execution_count": 19,
   "metadata": {
    "id": "SwIxOasMkSBe"
   },
   "outputs": [],
   "source": [
    "# #Create a dataframe with the satisfaction scores\n",
    "# customer_satisfied = pd.DataFrame(customer_satisfied, columns = ['Customer Satisfied'])\n",
    "\n",
    "# #Add the review Id\n",
    "# customer_satisfied = pd.concat([polarity_and_score_df[\"Id\"], satisfied_dataframe], axis=1)\n",
    "\n",
    "# #Save onto a csv file\n",
    "# # satisfied_dataframe.to_csv('satisfaction.csv', index=False)"
   ]
  },
  {
   "cell_type": "code",
   "execution_count": 20,
   "metadata": {},
   "outputs": [],
   "source": [
    "#Create a dataframe with the satisfaction scores\n",
    "satisfied_dataframe = pd.DataFrame(customer_satisfied, columns = ['Customer_Satisfied'])\n",
    "\n",
    "#Add the review Id\n",
    "satisfied_dataframe = pd.concat([polarity_and_score_df[\"Id\"], satisfied_dataframe], axis=1)\n",
    "\n",
    "#Save onto a csv file\n",
    "# satisfied_dataframe.to_csv('satisfaction.csv', index=False)"
   ]
  },
  {
   "cell_type": "code",
   "execution_count": 22,
   "metadata": {},
   "outputs": [],
   "source": [
    "# dataframe_with_polarity.drop(\"Unnamed: 0\",axis=1,inplace=True)"
   ]
  },
  {
   "cell_type": "code",
   "execution_count": 23,
   "metadata": {},
   "outputs": [
    {
     "data": {
      "text/html": [
       "<div>\n",
       "<style scoped>\n",
       "    .dataframe tbody tr th:only-of-type {\n",
       "        vertical-align: middle;\n",
       "    }\n",
       "\n",
       "    .dataframe tbody tr th {\n",
       "        vertical-align: top;\n",
       "    }\n",
       "\n",
       "    .dataframe thead th {\n",
       "        text-align: right;\n",
       "    }\n",
       "</style>\n",
       "<table border=\"1\" class=\"dataframe\">\n",
       "  <thead>\n",
       "    <tr style=\"text-align: right;\">\n",
       "      <th></th>\n",
       "      <th>Id</th>\n",
       "      <th>Customer_Satisfied</th>\n",
       "    </tr>\n",
       "  </thead>\n",
       "  <tbody>\n",
       "    <tr>\n",
       "      <th>0</th>\n",
       "      <td>1</td>\n",
       "      <td>1</td>\n",
       "    </tr>\n",
       "    <tr>\n",
       "      <th>1</th>\n",
       "      <td>3</td>\n",
       "      <td>1</td>\n",
       "    </tr>\n",
       "    <tr>\n",
       "      <th>2</th>\n",
       "      <td>4</td>\n",
       "      <td>0</td>\n",
       "    </tr>\n",
       "    <tr>\n",
       "      <th>3</th>\n",
       "      <td>2</td>\n",
       "      <td>0</td>\n",
       "    </tr>\n",
       "    <tr>\n",
       "      <th>4</th>\n",
       "      <td>5</td>\n",
       "      <td>1</td>\n",
       "    </tr>\n",
       "  </tbody>\n",
       "</table>\n",
       "</div>"
      ],
      "text/plain": [
       "   Id  Customer_Satisfied\n",
       "0   1                   1\n",
       "1   3                   1\n",
       "2   4                   0\n",
       "3   2                   0\n",
       "4   5                   1"
      ]
     },
     "execution_count": 23,
     "metadata": {},
     "output_type": "execute_result"
    }
   ],
   "source": [
    "satisfied_dataframe.head()"
   ]
  },
  {
   "cell_type": "code",
   "execution_count": 24,
   "metadata": {},
   "outputs": [],
   "source": [
    "#Add the customer satisfaction to the original dataframe with polarity\n",
    "dataframe_with_polarity_and_satisfaction = pd.concat([dataframe_with_polarity, satisfied_dataframe[\"Customer_Satisfied\"]], axis=1)\n",
    "\n",
    "#Save onto a csv file\n",
    "# dataframe_with_polarity_and_satisfaction.to_csv('dataframe_with_polarity_and_satisfaction.csv', index=False)"
   ]
  },
  {
   "cell_type": "code",
   "execution_count": 25,
   "metadata": {
    "colab": {
     "base_uri": "https://localhost:8080/",
     "height": 423
    },
    "id": "ZZHqYyKAk8Oe",
    "outputId": "6593991c-3db7-4d55-8c8b-f1087cbd466f"
   },
   "outputs": [
    {
     "data": {
      "text/html": [
       "<div>\n",
       "<style scoped>\n",
       "    .dataframe tbody tr th:only-of-type {\n",
       "        vertical-align: middle;\n",
       "    }\n",
       "\n",
       "    .dataframe tbody tr th {\n",
       "        vertical-align: top;\n",
       "    }\n",
       "\n",
       "    .dataframe thead th {\n",
       "        text-align: right;\n",
       "    }\n",
       "</style>\n",
       "<table border=\"1\" class=\"dataframe\">\n",
       "  <thead>\n",
       "    <tr style=\"text-align: right;\">\n",
       "      <th></th>\n",
       "      <th>_id</th>\n",
       "      <th>Id</th>\n",
       "      <th>ProductId</th>\n",
       "      <th>UserId</th>\n",
       "      <th>ProfileName</th>\n",
       "      <th>HelpfulnessNumerator</th>\n",
       "      <th>HelpfulnessDenominator</th>\n",
       "      <th>Score</th>\n",
       "      <th>Time</th>\n",
       "      <th>Summary</th>\n",
       "      <th>Text</th>\n",
       "      <th>ProductURL</th>\n",
       "      <th>Year</th>\n",
       "      <th>Month</th>\n",
       "      <th>Day</th>\n",
       "      <th>Polarity</th>\n",
       "      <th>Customer_Satisfied</th>\n",
       "    </tr>\n",
       "  </thead>\n",
       "  <tbody>\n",
       "    <tr>\n",
       "      <th>0</th>\n",
       "      <td>0</td>\n",
       "      <td>1</td>\n",
       "      <td>B001E4KFG0</td>\n",
       "      <td>A3SGXH7AUHU8GW</td>\n",
       "      <td>delmartian</td>\n",
       "      <td>1</td>\n",
       "      <td>1</td>\n",
       "      <td>5</td>\n",
       "      <td>2011-04-27</td>\n",
       "      <td>Good Quality Dog Food</td>\n",
       "      <td>I have bought several of the Vitality canned d...</td>\n",
       "      <td>https://www.amazon.com/dp/B001E4KFG0</td>\n",
       "      <td>2011</td>\n",
       "      <td>4</td>\n",
       "      <td>27</td>\n",
       "      <td>0.9441</td>\n",
       "      <td>1</td>\n",
       "    </tr>\n",
       "    <tr>\n",
       "      <th>1</th>\n",
       "      <td>2</td>\n",
       "      <td>3</td>\n",
       "      <td>B000LQOCH0</td>\n",
       "      <td>ABXLMWJIXXAIN</td>\n",
       "      <td>Natalia Corres \"Natalia Corres\"</td>\n",
       "      <td>1</td>\n",
       "      <td>1</td>\n",
       "      <td>4</td>\n",
       "      <td>2008-08-18</td>\n",
       "      <td>\"Delight\" says it all</td>\n",
       "      <td>This is a confection that has been around a fe...</td>\n",
       "      <td>https://www.amazon.com/dp/B000LQOCH0</td>\n",
       "      <td>2008</td>\n",
       "      <td>8</td>\n",
       "      <td>18</td>\n",
       "      <td>0.8265</td>\n",
       "      <td>1</td>\n",
       "    </tr>\n",
       "    <tr>\n",
       "      <th>2</th>\n",
       "      <td>3</td>\n",
       "      <td>4</td>\n",
       "      <td>B000UA0QIQ</td>\n",
       "      <td>A395BORC6FGVXV</td>\n",
       "      <td>Karl</td>\n",
       "      <td>3</td>\n",
       "      <td>3</td>\n",
       "      <td>2</td>\n",
       "      <td>2011-06-13</td>\n",
       "      <td>Cough Medicine</td>\n",
       "      <td>If you are looking for the secret ingredient i...</td>\n",
       "      <td>https://www.amazon.com/dp/B000UA0QIQ</td>\n",
       "      <td>2011</td>\n",
       "      <td>6</td>\n",
       "      <td>13</td>\n",
       "      <td>0.0000</td>\n",
       "      <td>0</td>\n",
       "    </tr>\n",
       "    <tr>\n",
       "      <th>3</th>\n",
       "      <td>1</td>\n",
       "      <td>2</td>\n",
       "      <td>B00813GRG4</td>\n",
       "      <td>A1D87F6ZCVE5NK</td>\n",
       "      <td>dll pa</td>\n",
       "      <td>0</td>\n",
       "      <td>0</td>\n",
       "      <td>1</td>\n",
       "      <td>2012-09-07</td>\n",
       "      <td>Not as Advertised</td>\n",
       "      <td>Product arrived labeled as Jumbo Salted Peanut...</td>\n",
       "      <td>https://www.amazon.com/dp/B00813GRG4</td>\n",
       "      <td>2012</td>\n",
       "      <td>9</td>\n",
       "      <td>7</td>\n",
       "      <td>-0.5664</td>\n",
       "      <td>0</td>\n",
       "    </tr>\n",
       "    <tr>\n",
       "      <th>4</th>\n",
       "      <td>4</td>\n",
       "      <td>5</td>\n",
       "      <td>B006K2ZZ7K</td>\n",
       "      <td>A1UQRSCLF8GW1T</td>\n",
       "      <td>Michael D. Bigham \"M. Wassir\"</td>\n",
       "      <td>0</td>\n",
       "      <td>0</td>\n",
       "      <td>5</td>\n",
       "      <td>2012-10-21</td>\n",
       "      <td>Great taffy</td>\n",
       "      <td>Great taffy at a great price.  There was a wid...</td>\n",
       "      <td>https://www.amazon.com/dp/B006K2ZZ7K</td>\n",
       "      <td>2012</td>\n",
       "      <td>10</td>\n",
       "      <td>21</td>\n",
       "      <td>0.9468</td>\n",
       "      <td>1</td>\n",
       "    </tr>\n",
       "  </tbody>\n",
       "</table>\n",
       "</div>"
      ],
      "text/plain": [
       "   _id  Id   ProductId          UserId                      ProfileName  \\\n",
       "0    0   1  B001E4KFG0  A3SGXH7AUHU8GW                       delmartian   \n",
       "1    2   3  B000LQOCH0   ABXLMWJIXXAIN  Natalia Corres \"Natalia Corres\"   \n",
       "2    3   4  B000UA0QIQ  A395BORC6FGVXV                             Karl   \n",
       "3    1   2  B00813GRG4  A1D87F6ZCVE5NK                           dll pa   \n",
       "4    4   5  B006K2ZZ7K  A1UQRSCLF8GW1T    Michael D. Bigham \"M. Wassir\"   \n",
       "\n",
       "   HelpfulnessNumerator  HelpfulnessDenominator  Score        Time  \\\n",
       "0                     1                       1      5  2011-04-27   \n",
       "1                     1                       1      4  2008-08-18   \n",
       "2                     3                       3      2  2011-06-13   \n",
       "3                     0                       0      1  2012-09-07   \n",
       "4                     0                       0      5  2012-10-21   \n",
       "\n",
       "                 Summary                                               Text  \\\n",
       "0  Good Quality Dog Food  I have bought several of the Vitality canned d...   \n",
       "1  \"Delight\" says it all  This is a confection that has been around a fe...   \n",
       "2         Cough Medicine  If you are looking for the secret ingredient i...   \n",
       "3      Not as Advertised  Product arrived labeled as Jumbo Salted Peanut...   \n",
       "4            Great taffy  Great taffy at a great price.  There was a wid...   \n",
       "\n",
       "                             ProductURL  Year  Month  Day  Polarity  \\\n",
       "0  https://www.amazon.com/dp/B001E4KFG0  2011      4   27    0.9441   \n",
       "1  https://www.amazon.com/dp/B000LQOCH0  2008      8   18    0.8265   \n",
       "2  https://www.amazon.com/dp/B000UA0QIQ  2011      6   13    0.0000   \n",
       "3  https://www.amazon.com/dp/B00813GRG4  2012      9    7   -0.5664   \n",
       "4  https://www.amazon.com/dp/B006K2ZZ7K  2012     10   21    0.9468   \n",
       "\n",
       "   Customer_Satisfied  \n",
       "0                   1  \n",
       "1                   1  \n",
       "2                   0  \n",
       "3                   0  \n",
       "4                   1  "
      ]
     },
     "execution_count": 25,
     "metadata": {},
     "output_type": "execute_result"
    }
   ],
   "source": [
    "dataframe_with_polarity_and_satisfaction.head()"
   ]
  },
  {
   "cell_type": "code",
   "execution_count": 33,
   "metadata": {},
   "outputs": [],
   "source": [
    "# #Save onto a csv file\n",
    "dataframe_with_polarity_and_satisfaction.to_csv(file_out, index=False)"
   ]
  },
  {
   "cell_type": "code",
   "execution_count": 34,
   "metadata": {
    "scrolled": true
   },
   "outputs": [
    {
     "data": {
      "text/html": [
       "<div>\n",
       "<style scoped>\n",
       "    .dataframe tbody tr th:only-of-type {\n",
       "        vertical-align: middle;\n",
       "    }\n",
       "\n",
       "    .dataframe tbody tr th {\n",
       "        vertical-align: top;\n",
       "    }\n",
       "\n",
       "    .dataframe thead th {\n",
       "        text-align: right;\n",
       "    }\n",
       "</style>\n",
       "<table border=\"1\" class=\"dataframe\">\n",
       "  <thead>\n",
       "    <tr style=\"text-align: right;\">\n",
       "      <th></th>\n",
       "      <th>_id</th>\n",
       "      <th>Id</th>\n",
       "      <th>ProductId</th>\n",
       "      <th>UserId</th>\n",
       "      <th>ProfileName</th>\n",
       "      <th>HelpfulnessNumerator</th>\n",
       "      <th>HelpfulnessDenominator</th>\n",
       "      <th>Score</th>\n",
       "      <th>Time</th>\n",
       "      <th>Summary</th>\n",
       "      <th>Text</th>\n",
       "      <th>ProductURL</th>\n",
       "      <th>Year</th>\n",
       "      <th>Month</th>\n",
       "      <th>Day</th>\n",
       "      <th>Polarity</th>\n",
       "      <th>Customer_Satisfied</th>\n",
       "    </tr>\n",
       "  </thead>\n",
       "  <tbody>\n",
       "    <tr>\n",
       "      <th>0</th>\n",
       "      <td>0</td>\n",
       "      <td>1</td>\n",
       "      <td>B001E4KFG0</td>\n",
       "      <td>A3SGXH7AUHU8GW</td>\n",
       "      <td>delmartian</td>\n",
       "      <td>1</td>\n",
       "      <td>1</td>\n",
       "      <td>5</td>\n",
       "      <td>2011-04-27</td>\n",
       "      <td>Good Quality Dog Food</td>\n",
       "      <td>I have bought several of the Vitality canned d...</td>\n",
       "      <td>https://www.amazon.com/dp/B001E4KFG0</td>\n",
       "      <td>2011</td>\n",
       "      <td>4</td>\n",
       "      <td>27</td>\n",
       "      <td>0.9441</td>\n",
       "      <td>1</td>\n",
       "    </tr>\n",
       "    <tr>\n",
       "      <th>1</th>\n",
       "      <td>2</td>\n",
       "      <td>3</td>\n",
       "      <td>B000LQOCH0</td>\n",
       "      <td>ABXLMWJIXXAIN</td>\n",
       "      <td>Natalia Corres \"Natalia Corres\"</td>\n",
       "      <td>1</td>\n",
       "      <td>1</td>\n",
       "      <td>4</td>\n",
       "      <td>2008-08-18</td>\n",
       "      <td>\"Delight\" says it all</td>\n",
       "      <td>This is a confection that has been around a fe...</td>\n",
       "      <td>https://www.amazon.com/dp/B000LQOCH0</td>\n",
       "      <td>2008</td>\n",
       "      <td>8</td>\n",
       "      <td>18</td>\n",
       "      <td>0.8265</td>\n",
       "      <td>1</td>\n",
       "    </tr>\n",
       "    <tr>\n",
       "      <th>2</th>\n",
       "      <td>3</td>\n",
       "      <td>4</td>\n",
       "      <td>B000UA0QIQ</td>\n",
       "      <td>A395BORC6FGVXV</td>\n",
       "      <td>Karl</td>\n",
       "      <td>3</td>\n",
       "      <td>3</td>\n",
       "      <td>2</td>\n",
       "      <td>2011-06-13</td>\n",
       "      <td>Cough Medicine</td>\n",
       "      <td>If you are looking for the secret ingredient i...</td>\n",
       "      <td>https://www.amazon.com/dp/B000UA0QIQ</td>\n",
       "      <td>2011</td>\n",
       "      <td>6</td>\n",
       "      <td>13</td>\n",
       "      <td>0.0000</td>\n",
       "      <td>0</td>\n",
       "    </tr>\n",
       "    <tr>\n",
       "      <th>3</th>\n",
       "      <td>1</td>\n",
       "      <td>2</td>\n",
       "      <td>B00813GRG4</td>\n",
       "      <td>A1D87F6ZCVE5NK</td>\n",
       "      <td>dll pa</td>\n",
       "      <td>0</td>\n",
       "      <td>0</td>\n",
       "      <td>1</td>\n",
       "      <td>2012-09-07</td>\n",
       "      <td>Not as Advertised</td>\n",
       "      <td>Product arrived labeled as Jumbo Salted Peanut...</td>\n",
       "      <td>https://www.amazon.com/dp/B00813GRG4</td>\n",
       "      <td>2012</td>\n",
       "      <td>9</td>\n",
       "      <td>7</td>\n",
       "      <td>-0.5664</td>\n",
       "      <td>0</td>\n",
       "    </tr>\n",
       "    <tr>\n",
       "      <th>4</th>\n",
       "      <td>4</td>\n",
       "      <td>5</td>\n",
       "      <td>B006K2ZZ7K</td>\n",
       "      <td>A1UQRSCLF8GW1T</td>\n",
       "      <td>Michael D. Bigham \"M. Wassir\"</td>\n",
       "      <td>0</td>\n",
       "      <td>0</td>\n",
       "      <td>5</td>\n",
       "      <td>2012-10-21</td>\n",
       "      <td>Great taffy</td>\n",
       "      <td>Great taffy at a great price.  There was a wid...</td>\n",
       "      <td>https://www.amazon.com/dp/B006K2ZZ7K</td>\n",
       "      <td>2012</td>\n",
       "      <td>10</td>\n",
       "      <td>21</td>\n",
       "      <td>0.9468</td>\n",
       "      <td>1</td>\n",
       "    </tr>\n",
       "  </tbody>\n",
       "</table>\n",
       "</div>"
      ],
      "text/plain": [
       "   _id  Id   ProductId          UserId                      ProfileName  \\\n",
       "0    0   1  B001E4KFG0  A3SGXH7AUHU8GW                       delmartian   \n",
       "1    2   3  B000LQOCH0   ABXLMWJIXXAIN  Natalia Corres \"Natalia Corres\"   \n",
       "2    3   4  B000UA0QIQ  A395BORC6FGVXV                             Karl   \n",
       "3    1   2  B00813GRG4  A1D87F6ZCVE5NK                           dll pa   \n",
       "4    4   5  B006K2ZZ7K  A1UQRSCLF8GW1T    Michael D. Bigham \"M. Wassir\"   \n",
       "\n",
       "   HelpfulnessNumerator  HelpfulnessDenominator  Score        Time  \\\n",
       "0                     1                       1      5  2011-04-27   \n",
       "1                     1                       1      4  2008-08-18   \n",
       "2                     3                       3      2  2011-06-13   \n",
       "3                     0                       0      1  2012-09-07   \n",
       "4                     0                       0      5  2012-10-21   \n",
       "\n",
       "                 Summary                                               Text  \\\n",
       "0  Good Quality Dog Food  I have bought several of the Vitality canned d...   \n",
       "1  \"Delight\" says it all  This is a confection that has been around a fe...   \n",
       "2         Cough Medicine  If you are looking for the secret ingredient i...   \n",
       "3      Not as Advertised  Product arrived labeled as Jumbo Salted Peanut...   \n",
       "4            Great taffy  Great taffy at a great price.  There was a wid...   \n",
       "\n",
       "                             ProductURL  Year  Month  Day  Polarity  \\\n",
       "0  https://www.amazon.com/dp/B001E4KFG0  2011      4   27    0.9441   \n",
       "1  https://www.amazon.com/dp/B000LQOCH0  2008      8   18    0.8265   \n",
       "2  https://www.amazon.com/dp/B000UA0QIQ  2011      6   13    0.0000   \n",
       "3  https://www.amazon.com/dp/B00813GRG4  2012      9    7   -0.5664   \n",
       "4  https://www.amazon.com/dp/B006K2ZZ7K  2012     10   21    0.9468   \n",
       "\n",
       "   Customer_Satisfied  \n",
       "0                   1  \n",
       "1                   1  \n",
       "2                   0  \n",
       "3                   0  \n",
       "4                   1  "
      ]
     },
     "execution_count": 34,
     "metadata": {},
     "output_type": "execute_result"
    }
   ],
   "source": [
    "dataframe_with_polarity_and_satisfaction.head()"
   ]
  },
  {
   "cell_type": "code",
   "execution_count": null,
   "metadata": {},
   "outputs": [],
   "source": []
  }
 ],
 "metadata": {
  "colab": {
   "provenance": []
  },
  "kernelspec": {
   "display_name": "Python 3",
   "language": "python",
   "name": "python3"
  },
  "language_info": {
   "codemirror_mode": {
    "name": "ipython",
    "version": 3
   },
   "file_extension": ".py",
   "mimetype": "text/x-python",
   "name": "python",
   "nbconvert_exporter": "python",
   "pygments_lexer": "ipython3",
   "version": "3.11.7"
  }
 },
 "nbformat": 4,
 "nbformat_minor": 4
}

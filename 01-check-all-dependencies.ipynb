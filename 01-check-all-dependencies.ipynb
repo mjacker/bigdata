{
 "cells": [
  {
   "cell_type": "markdown",
   "id": "f455689b-b9e0-4af0-9aec-ae9fad1f2914",
   "metadata": {},
   "source": [
    "# Connect to MongoDB - Atlas\n",
    "Este notebook se encarga de poder conectar a mongoDB - Atlas para poder descargar el dataset que necesitamos para este proyecto."
   ]
  },
  {
   "cell_type": "markdown",
   "id": "869b53d1-24d0-4a3a-b796-b6ff31eff28d",
   "metadata": {},
   "source": [
    "## Getting your current IP"
   ]
  },
  {
   "cell_type": "code",
   "execution_count": 5,
   "id": "c2da5a2b-a013-4549-926a-4369df91a247",
   "metadata": {},
   "outputs": [
    {
     "name": "stdout",
     "output_type": "stream",
     "text": [
      "140.118.245.127\n"
     ]
    }
   ],
   "source": [
    "!curl ifconfig.io"
   ]
  },
  {
   "cell_type": "code",
   "execution_count": 15,
   "id": "e05d59bf-bb5b-41f9-ad8c-6afc51339c16",
   "metadata": {},
   "outputs": [
    {
     "name": "stdout",
     "output_type": "stream",
     "text": [
      "140.118.116.127"
     ]
    }
   ],
   "source": [
    "!curl ipecho.net/plain"
   ]
  },
  {
   "cell_type": "code",
   "execution_count": 8,
   "id": "74a94a54-cca0-4bd3-a037-7e7836b84e2a",
   "metadata": {},
   "outputs": [],
   "source": [
    "!python3 -V"
   ]
  },
  {
   "cell_type": "markdown",
   "id": "db158e68-9446-450d-a057-c00607299c8b",
   "metadata": {},
   "source": [
    " ## Update system apps\n",
    " \n",
    "> If can not input the string, copy this command to the terminal"
   ]
  },
  {
   "cell_type": "code",
   "execution_count": null,
   "id": "651aecbe-9ba7-4bff-b9b0-2ad6b75bb14c",
   "metadata": {},
   "outputs": [],
   "source": [
    "!sudo apt-get update"
   ]
  },
  {
   "cell_type": "code",
   "execution_count": null,
   "id": "b490dd4c-f58b-420a-b1c6-7e3fd1aa7422",
   "metadata": {},
   "outputs": [],
   "source": [
    "!sudo apt-get upgrade"
   ]
  },
  {
   "cell_type": "code",
   "execution_count": 11,
   "id": "f0ef49ad-7c59-45e5-8713-e22def9c7470",
   "metadata": {},
   "outputs": [
    {
     "name": "stdout",
     "output_type": "stream",
     "text": [
      "Collecting pymongo==4.1.1\n",
      "  Using cached https://files.pythonhosted.org/packages/10/3b/46541b4ee3000019b8ef5b1847292ddc77f492c162bc4d49c424db7fc97a/pymongo-4.1.1-cp36-cp36m-manylinux1_x86_64.whl\n",
      "Installing collected packages: pymongo\n",
      "Successfully installed pymongo-4.1.1\n"
     ]
    }
   ],
   "source": [
    "!pip3 install pymongo==4.1.1"
   ]
  },
  {
   "cell_type": "code",
   "execution_count": 14,
   "id": "bb5395a2-a75e-4ea9-827a-a80e4c1ca83d",
   "metadata": {},
   "outputs": [
    {
     "name": "stdout",
     "output_type": "stream",
     "text": [
      "Collecting pandas==2.1.4\n",
      "\u001b[31m  Could not find a version that satisfies the requirement pandas==2.1.4 (from versions: 0.1, 0.2, 0.3.0, 0.4.0, 0.4.1, 0.4.2, 0.4.3, 0.5.0, 0.6.0, 0.6.1, 0.7.0, 0.7.1, 0.7.2, 0.7.3, 0.8.0, 0.8.1, 0.9.0, 0.9.1, 0.10.0, 0.10.1, 0.11.0, 0.12.0, 0.13.0, 0.13.1, 0.14.0, 0.14.1, 0.15.0, 0.15.1, 0.15.2, 0.16.0, 0.16.1, 0.16.2, 0.17.0, 0.17.1, 0.18.0, 0.18.1, 0.19.0, 0.19.1, 0.19.2, 0.20.0, 0.20.1, 0.20.2, 0.20.3, 0.21.0, 0.21.1, 0.22.0, 0.23.0, 0.23.1, 0.23.2, 0.23.3, 0.23.4, 0.24.0, 0.24.1, 0.24.2, 0.25.0, 0.25.1, 0.25.2, 0.25.3, 1.0.0, 1.0.1, 1.0.2, 1.0.3, 1.0.4, 1.0.5, 1.1.0, 1.1.1, 1.1.2, 1.1.3, 1.1.4, 1.1.5)\u001b[0m\n",
      "\u001b[31mNo matching distribution found for pandas==2.1.4\u001b[0m\n"
     ]
    }
   ],
   "source": [
    "!pip3 install pandas==2.1.4\n"
   ]
  },
  {
   "cell_type": "code",
   "execution_count": null,
   "id": "44a6780b-24f0-4c5f-94e6-e3815006dc52",
   "metadata": {},
   "outputs": [],
   "source": []
  }
 ],
 "metadata": {
  "kernelspec": {
   "display_name": "Python 3",
   "language": "python",
   "name": "python3"
  },
  "language_info": {
   "codemirror_mode": {
    "name": "ipython",
    "version": 3
   },
   "file_extension": ".py",
   "mimetype": "text/x-python",
   "name": "python",
   "nbconvert_exporter": "python",
   "pygments_lexer": "ipython3",
   "version": "3.6.9"
  }
 },
 "nbformat": 4,
 "nbformat_minor": 5
}

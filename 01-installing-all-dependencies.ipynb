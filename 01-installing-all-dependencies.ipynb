{
 "cells": [
  {
   "cell_type": "markdown",
   "id": "f455689b-b9e0-4af0-9aec-ae9fad1f2914",
   "metadata": {},
   "source": [
    "# Connect to MongoDB - Atlas\n",
    "Este notebook se encarga de poder conectar a mongoDB - Atlas para poder descargar el dataset que necesitamos para este proyecto."
   ]
  },
  {
   "cell_type": "markdown",
   "id": "869b53d1-24d0-4a3a-b796-b6ff31eff28d",
   "metadata": {},
   "source": [
    "## Getting your current IP"
   ]
  },
  {
   "cell_type": "code",
   "execution_count": 1,
   "id": "c2da5a2b-a013-4549-926a-4369df91a247",
   "metadata": {},
   "outputs": [],
   "source": [
    "# !curl ifconfig.io"
   ]
  },
  {
   "cell_type": "code",
   "execution_count": 2,
   "id": "e05d59bf-bb5b-41f9-ad8c-6afc51339c16",
   "metadata": {},
   "outputs": [],
   "source": [
    "# !curl ipecho.net/plain"
   ]
  },
  {
   "cell_type": "code",
   "execution_count": 3,
   "id": "74a94a54-cca0-4bd3-a037-7e7836b84e2a",
   "metadata": {},
   "outputs": [
    {
     "name": "stdout",
     "output_type": "stream",
     "text": [
      "Python 3.11.7\n"
     ]
    }
   ],
   "source": [
    "!python -V"
   ]
  },
  {
   "cell_type": "markdown",
   "id": "db158e68-9446-450d-a057-c00607299c8b",
   "metadata": {},
   "source": [
    " ## Update system apps\n",
    " \n",
    "> If can not input the string, copy this command to the terminal"
   ]
  },
  {
   "cell_type": "code",
   "execution_count": 4,
   "id": "651aecbe-9ba7-4bff-b9b0-2ad6b75bb14c",
   "metadata": {},
   "outputs": [],
   "source": [
    "#!sudo apt-get update"
   ]
  },
  {
   "cell_type": "code",
   "execution_count": 5,
   "id": "b490dd4c-f58b-420a-b1c6-7e3fd1aa7422",
   "metadata": {},
   "outputs": [],
   "source": [
    "# !sudo apt-get upgrade"
   ]
  },
  {
   "cell_type": "markdown",
   "id": "8a292ec4-dd13-4049-8e3a-fee02dabb50d",
   "metadata": {},
   "source": [
    "---"
   ]
  },
  {
   "cell_type": "markdown",
   "id": "d64cde7d-46d7-4175-a1bd-c4af710b7180",
   "metadata": {},
   "source": [
    "## Installing libraries"
   ]
  },
  {
   "cell_type": "code",
   "execution_count": 6,
   "id": "f0ef49ad-7c59-45e5-8713-e22def9c7470",
   "metadata": {},
   "outputs": [
    {
     "name": "stdout",
     "output_type": "stream",
     "text": [
      "Requirement already satisfied: pymongo in /home/mjubuntu18/anaconda3/lib/python3.11/site-packages (4.6.3)\n",
      "Requirement already satisfied: dnspython<3.0.0,>=1.16.0 in /home/mjubuntu18/anaconda3/lib/python3.11/site-packages (from pymongo) (2.6.1)\n"
     ]
    }
   ],
   "source": [
    "!pip install pymongo"
   ]
  },
  {
   "cell_type": "code",
   "execution_count": 7,
   "id": "bb5395a2-a75e-4ea9-827a-a80e4c1ca83d",
   "metadata": {},
   "outputs": [
    {
     "name": "stdout",
     "output_type": "stream",
     "text": [
      "Requirement already satisfied: pandas in /home/mjubuntu18/anaconda3/lib/python3.11/site-packages (2.1.4)\n",
      "Requirement already satisfied: numpy<2,>=1.23.2 in /home/mjubuntu18/anaconda3/lib/python3.11/site-packages (from pandas) (1.26.4)\n",
      "Requirement already satisfied: python-dateutil>=2.8.2 in /home/mjubuntu18/anaconda3/lib/python3.11/site-packages (from pandas) (2.8.2)\n",
      "Requirement already satisfied: pytz>=2020.1 in /home/mjubuntu18/anaconda3/lib/python3.11/site-packages (from pandas) (2023.3.post1)\n",
      "Requirement already satisfied: tzdata>=2022.1 in /home/mjubuntu18/anaconda3/lib/python3.11/site-packages (from pandas) (2023.3)\n",
      "Requirement already satisfied: six>=1.5 in /home/mjubuntu18/anaconda3/lib/python3.11/site-packages (from python-dateutil>=2.8.2->pandas) (1.16.0)\n"
     ]
    }
   ],
   "source": [
    "!pip install pandas\n"
   ]
  },
  {
   "cell_type": "code",
   "execution_count": 8,
   "id": "44a6780b-24f0-4c5f-94e6-e3815006dc52",
   "metadata": {},
   "outputs": [
    {
     "name": "stdout",
     "output_type": "stream",
     "text": [
      "Requirement already satisfied: numpy in /home/mjubuntu18/anaconda3/lib/python3.11/site-packages (1.26.4)\n"
     ]
    }
   ],
   "source": [
    "!pip install numpy"
   ]
  },
  {
   "cell_type": "code",
   "execution_count": 12,
   "id": "fa790e86-a682-49b7-bf0a-e64a11b00bb7",
   "metadata": {},
   "outputs": [
    {
     "name": "stdout",
     "output_type": "stream",
     "text": [
      "Collecting html5lib\n",
      "  Downloading html5lib-1.1-py2.py3-none-any.whl.metadata (16 kB)\n",
      "Requirement already satisfied: six>=1.9 in /home/mjubuntu18/anaconda3/lib/python3.11/site-packages (from html5lib) (1.16.0)\n",
      "Requirement already satisfied: webencodings in /home/mjubuntu18/anaconda3/lib/python3.11/site-packages (from html5lib) (0.5.1)\n",
      "Downloading html5lib-1.1-py2.py3-none-any.whl (112 kB)\n",
      "\u001b[2K   \u001b[38;2;114;156;31m━━━━━━━━━━━━━━━━━━━━━━━━━━━━━━━━━━━━━━━━\u001b[0m \u001b[32m112.2/112.2 kB\u001b[0m \u001b[31m1.2 MB/s\u001b[0m eta \u001b[36m0:00:00\u001b[0mMB/s\u001b[0m eta \u001b[36m0:00:01\u001b[0m00:01\u001b[0m\n",
      "\u001b[?25hInstalling collected packages: html5lib\n",
      "Successfully installed html5lib-1.1\n"
     ]
    }
   ],
   "source": [
    "!pip install html5lib"
   ]
  },
  {
   "cell_type": "code",
   "execution_count": 11,
   "id": "6c5ac4e4-11fc-48c8-bf0b-b0669e52edda",
   "metadata": {},
   "outputs": [
    {
     "name": "stdout",
     "output_type": "stream",
     "text": [
      "Requirement already satisfied: nltk in /home/mjubuntu18/anaconda3/lib/python3.11/site-packages (3.8.1)\n",
      "Requirement already satisfied: click in /home/mjubuntu18/anaconda3/lib/python3.11/site-packages (from nltk) (8.1.7)\n",
      "Requirement already satisfied: joblib in /home/mjubuntu18/anaconda3/lib/python3.11/site-packages (from nltk) (1.2.0)\n",
      "Requirement already satisfied: regex>=2021.8.3 in /home/mjubuntu18/anaconda3/lib/python3.11/site-packages (from nltk) (2023.10.3)\n",
      "Requirement already satisfied: tqdm in /home/mjubuntu18/anaconda3/lib/python3.11/site-packages (from nltk) (4.65.0)\n"
     ]
    }
   ],
   "source": [
    "!pip install nltk"
   ]
  },
  {
   "cell_type": "code",
   "execution_count": null,
   "id": "ae4252f8-619c-4e2a-a6a8-5a0183019ba8",
   "metadata": {},
   "outputs": [],
   "source": []
  }
 ],
 "metadata": {
  "kernelspec": {
   "display_name": "Python 3",
   "language": "python",
   "name": "python3"
  },
  "language_info": {
   "codemirror_mode": {
    "name": "ipython",
    "version": 3
   },
   "file_extension": ".py",
   "mimetype": "text/x-python",
   "name": "python",
   "nbconvert_exporter": "python",
   "pygments_lexer": "ipython3",
   "version": "3.11.7"
  }
 },
 "nbformat": 4,
 "nbformat_minor": 5
}

{
 "cells": [
  {
   "cell_type": "code",
   "execution_count": 1,
   "id": "c6ea5a80-30db-418d-9bdb-4217ad71edd1",
   "metadata": {},
   "outputs": [],
   "source": [
    "import csv"
   ]
  },
  {
   "cell_type": "code",
   "execution_count": 11,
   "id": "1327d5dc-be36-40c7-bd06-bfaa8e60b22d",
   "metadata": {},
   "outputs": [],
   "source": [
    "reader = csv.DictReader(open('amazon_100.csv','r'))\n",
    "# dir(reader)"
   ]
  },
  {
   "cell_type": "code",
   "execution_count": 18,
   "id": "e20b95d9-e9bd-4931-b115-a84bb42f5159",
   "metadata": {},
   "outputs": [],
   "source": [
    "for each in reader:\n",
    "    print(each)"
   ]
  },
  {
   "cell_type": "code",
   "execution_count": null,
   "id": "1cf26acd-b626-4e4b-a9af-c6ac471049f5",
   "metadata": {},
   "outputs": [],
   "source": []
  }
 ],
 "metadata": {
  "kernelspec": {
   "display_name": "Python 3 (ipykernel)",
   "language": "python",
   "name": "python3"
  },
  "language_info": {
   "codemirror_mode": {
    "name": "ipython",
    "version": 3
   },
   "file_extension": ".py",
   "mimetype": "text/x-python",
   "name": "python",
   "nbconvert_exporter": "python",
   "pygments_lexer": "ipython3",
   "version": "3.11.7"
  }
 },
 "nbformat": 4,
 "nbformat_minor": 5
}

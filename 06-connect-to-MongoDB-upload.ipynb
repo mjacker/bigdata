{
 "cells": [
  {
   "cell_type": "markdown",
   "id": "04a4e893-630f-4379-bd03-4a82ae0f7e7b",
   "metadata": {},
   "source": [
    "# 6. Connect to MongoDB - UpLoad"
   ]
  },
  {
   "cell_type": "markdown",
   "id": "20177bb8-d892-4dee-a8f5-e0d909bafddb",
   "metadata": {},
   "source": [
    "The purporse of this notebook is to upload the dataset to our private MongoDB-Atlas from the local computer."
   ]
  },
  {
   "cell_type": "code",
   "execution_count": 1,
   "id": "4280131a-fea8-4924-a786-365274c82071",
   "metadata": {},
   "outputs": [],
   "source": [
    "import pymongo\n",
    "import os\n",
    "import pandas as pd\n",
    "import numpy as np"
   ]
  },
  {
   "cell_type": "code",
   "execution_count": 2,
   "id": "12eb3ec5-79d8-46f3-bddd-1ae3ca7f8f33",
   "metadata": {},
   "outputs": [],
   "source": [
    "file_credential = \".my-mongo-credential\"\n",
    "file_out = \"df_amazon_original.csv\""
   ]
  },
  {
   "cell_type": "code",
   "execution_count": 3,
   "id": "89aa0be9-8486-42f4-9333-e399db3aa8f4",
   "metadata": {},
   "outputs": [],
   "source": [
    "f=open(file_credential,\"r\")\n",
    "lines=f.readlines()\n",
    "username=lines[0].strip()\n",
    "password=lines[1].strip()\n",
    "f.close()"
   ]
  },
  {
   "cell_type": "code",
   "execution_count": null,
   "id": "717e8bf3-1cd9-4233-8bef-81e0f833df51",
   "metadata": {},
   "outputs": [],
   "source": []
  }
 ],
 "metadata": {
  "kernelspec": {
   "display_name": "Python 3 (ipykernel)",
   "language": "python",
   "name": "python3"
  },
  "language_info": {
   "codemirror_mode": {
    "name": "ipython",
    "version": 3
   },
   "file_extension": ".py",
   "mimetype": "text/x-python",
   "name": "python",
   "nbconvert_exporter": "python",
   "pygments_lexer": "ipython3",
   "version": "3.11.7"
  }
 },
 "nbformat": 4,
 "nbformat_minor": 5
}

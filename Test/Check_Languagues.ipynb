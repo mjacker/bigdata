{
 "cells": [
  {
   "cell_type": "markdown",
   "id": "1cc82caa-2c28-44f9-95e1-f94c872471ac",
   "metadata": {},
   "source": [
    "# Improving Preprocessing\n",
    "\n",
    "Applying preprocessing to the original dataset `Reviews_withURL.csv`\n",
    "* Some steps take some time to process the text; override the dataset with new columns to speed up the process.\n",
    "    * Preprocessing\n",
    "    * Language detection"
   ]
  },
  {
   "cell_type": "code",
   "execution_count": 1,
   "id": "06a84bbb-1b22-453d-8a2f-44e150c8398b",
   "metadata": {},
   "outputs": [
    {
     "name": "stderr",
     "output_type": "stream",
     "text": [
      "[nltk_data] Downloading package wordnet to /home/ml/nltk_data...\n",
      "[nltk_data]   Package wordnet is already up-to-date!\n",
      "[nltk_data] Downloading package stopwords to /home/ml/nltk_data...\n",
      "[nltk_data]   Package stopwords is already up-to-date!\n"
     ]
    }
   ],
   "source": [
    "# Database\n",
    "import pymongo\n",
    "\n",
    "# Preprocessing\n",
    "import os\n",
    "import pandas as pd\n",
    "import numpy as np\n",
    "from bs4 import BeautifulSoup # Handle HTML syntax\n",
    "from html import unescape\n",
    "from datetime import datetime\n",
    "from natsort import natsort_keygen\n",
    "import re\n",
    "import nltk\n",
    "nltk.download('wordnet')\n",
    "nltk.download('stopwords')\n",
    "from nltk.corpus import stopwords\n",
    "from nltk.stem import WordNetLemmatizer\n",
    "\n",
    "# Data Visualization\n",
    "import matplotlib.pyplot as plt\n",
    "import plotly.express as px"
   ]
  },
  {
   "cell_type": "markdown",
   "id": "c56faa22-5c6d-49cd-8774-5c44d92d42e6",
   "metadata": {},
   "source": [
    "* Read Database"
   ]
  },
  {
   "cell_type": "code",
   "execution_count": 2,
   "id": "86ba728b-35ca-4c37-8fc9-b7f5fd3b9bfe",
   "metadata": {},
   "outputs": [],
   "source": [
    "amazon_df = pd.read_csv('Reviews_withURL.csv',index_col=0)"
   ]
  },
  {
   "cell_type": "code",
   "execution_count": 3,
   "id": "fa086b8e-0953-49c1-9c84-493bbb402b15",
   "metadata": {},
   "outputs": [],
   "source": [
    "# Preprocessing"
   ]
  },
  {
   "cell_type": "markdown",
   "id": "0f88c79d-29c9-4828-9efb-110b24cdcf3a",
   "metadata": {},
   "source": [
    "* Set to the same NaN format"
   ]
  },
  {
   "cell_type": "code",
   "execution_count": 4,
   "id": "0e6612ff-37c4-4248-af17-b2bc4421faad",
   "metadata": {},
   "outputs": [],
   "source": [
    "amazon_df.replace({None: np.nan}, inplace=True)"
   ]
  },
  {
   "cell_type": "markdown",
   "id": "e9c66dc5-eedf-41cf-be26-db245dbc159f",
   "metadata": {},
   "source": [
    "* Drop na and duplicates"
   ]
  },
  {
   "cell_type": "code",
   "execution_count": 5,
   "id": "d731d72c-0ee6-4236-9f98-651048fdaad5",
   "metadata": {},
   "outputs": [],
   "source": [
    "amazon_df = amazon_df.dropna()\n",
    "amazon_df = amazon_df.drop_duplicates()"
   ]
  },
  {
   "cell_type": "code",
   "execution_count": 6,
   "id": "aa222138-86b3-4aad-aea0-a322931681da",
   "metadata": {},
   "outputs": [
    {
     "data": {
      "text/html": [
       "<div>\n",
       "<style scoped>\n",
       "    .dataframe tbody tr th:only-of-type {\n",
       "        vertical-align: middle;\n",
       "    }\n",
       "\n",
       "    .dataframe tbody tr th {\n",
       "        vertical-align: top;\n",
       "    }\n",
       "\n",
       "    .dataframe thead th {\n",
       "        text-align: right;\n",
       "    }\n",
       "</style>\n",
       "<table border=\"1\" class=\"dataframe\">\n",
       "  <thead>\n",
       "    <tr style=\"text-align: right;\">\n",
       "      <th></th>\n",
       "      <th>Id</th>\n",
       "      <th>ProductId</th>\n",
       "      <th>UserId</th>\n",
       "      <th>ProfileName</th>\n",
       "      <th>HelpfulnessNumerator</th>\n",
       "      <th>HelpfulnessDenominator</th>\n",
       "      <th>Score</th>\n",
       "      <th>Time</th>\n",
       "      <th>Summary</th>\n",
       "      <th>Text</th>\n",
       "      <th>ProductURL</th>\n",
       "    </tr>\n",
       "  </thead>\n",
       "  <tbody>\n",
       "    <tr>\n",
       "      <th>0</th>\n",
       "      <td>1</td>\n",
       "      <td>B001E4KFG0</td>\n",
       "      <td>A3SGXH7AUHU8GW</td>\n",
       "      <td>delmartian</td>\n",
       "      <td>1</td>\n",
       "      <td>1</td>\n",
       "      <td>5</td>\n",
       "      <td>1303862400</td>\n",
       "      <td>Good Quality Dog Food</td>\n",
       "      <td>I have bought several of the Vitality canned d...</td>\n",
       "      <td>https://www.amazon.com/dp/B001E4KFG0</td>\n",
       "    </tr>\n",
       "    <tr>\n",
       "      <th>1</th>\n",
       "      <td>2</td>\n",
       "      <td>B00813GRG4</td>\n",
       "      <td>A1D87F6ZCVE5NK</td>\n",
       "      <td>dll pa</td>\n",
       "      <td>0</td>\n",
       "      <td>0</td>\n",
       "      <td>1</td>\n",
       "      <td>1346976000</td>\n",
       "      <td>Not as Advertised</td>\n",
       "      <td>Product arrived labeled as Jumbo Salted Peanut...</td>\n",
       "      <td>https://www.amazon.com/dp/B00813GRG4</td>\n",
       "    </tr>\n",
       "    <tr>\n",
       "      <th>2</th>\n",
       "      <td>3</td>\n",
       "      <td>B000LQOCH0</td>\n",
       "      <td>ABXLMWJIXXAIN</td>\n",
       "      <td>Natalia Corres \"Natalia Corres\"</td>\n",
       "      <td>1</td>\n",
       "      <td>1</td>\n",
       "      <td>4</td>\n",
       "      <td>1219017600</td>\n",
       "      <td>\"Delight\" says it all</td>\n",
       "      <td>This is a confection that has been around a fe...</td>\n",
       "      <td>https://www.amazon.com/dp/B000LQOCH0</td>\n",
       "    </tr>\n",
       "    <tr>\n",
       "      <th>3</th>\n",
       "      <td>4</td>\n",
       "      <td>B000UA0QIQ</td>\n",
       "      <td>A395BORC6FGVXV</td>\n",
       "      <td>Karl</td>\n",
       "      <td>3</td>\n",
       "      <td>3</td>\n",
       "      <td>2</td>\n",
       "      <td>1307923200</td>\n",
       "      <td>Cough Medicine</td>\n",
       "      <td>If you are looking for the secret ingredient i...</td>\n",
       "      <td>https://www.amazon.com/dp/B000UA0QIQ</td>\n",
       "    </tr>\n",
       "    <tr>\n",
       "      <th>4</th>\n",
       "      <td>5</td>\n",
       "      <td>B006K2ZZ7K</td>\n",
       "      <td>A1UQRSCLF8GW1T</td>\n",
       "      <td>Michael D. Bigham \"M. Wassir\"</td>\n",
       "      <td>0</td>\n",
       "      <td>0</td>\n",
       "      <td>5</td>\n",
       "      <td>1350777600</td>\n",
       "      <td>Great taffy</td>\n",
       "      <td>Great taffy at a great price.  There was a wid...</td>\n",
       "      <td>https://www.amazon.com/dp/B006K2ZZ7K</td>\n",
       "    </tr>\n",
       "  </tbody>\n",
       "</table>\n",
       "</div>"
      ],
      "text/plain": [
       "   Id   ProductId          UserId                      ProfileName  \\\n",
       "0   1  B001E4KFG0  A3SGXH7AUHU8GW                       delmartian   \n",
       "1   2  B00813GRG4  A1D87F6ZCVE5NK                           dll pa   \n",
       "2   3  B000LQOCH0   ABXLMWJIXXAIN  Natalia Corres \"Natalia Corres\"   \n",
       "3   4  B000UA0QIQ  A395BORC6FGVXV                             Karl   \n",
       "4   5  B006K2ZZ7K  A1UQRSCLF8GW1T    Michael D. Bigham \"M. Wassir\"   \n",
       "\n",
       "   HelpfulnessNumerator  HelpfulnessDenominator  Score        Time  \\\n",
       "0                     1                       1      5  1303862400   \n",
       "1                     0                       0      1  1346976000   \n",
       "2                     1                       1      4  1219017600   \n",
       "3                     3                       3      2  1307923200   \n",
       "4                     0                       0      5  1350777600   \n",
       "\n",
       "                 Summary                                               Text  \\\n",
       "0  Good Quality Dog Food  I have bought several of the Vitality canned d...   \n",
       "1      Not as Advertised  Product arrived labeled as Jumbo Salted Peanut...   \n",
       "2  \"Delight\" says it all  This is a confection that has been around a fe...   \n",
       "3         Cough Medicine  If you are looking for the secret ingredient i...   \n",
       "4            Great taffy  Great taffy at a great price.  There was a wid...   \n",
       "\n",
       "                             ProductURL  \n",
       "0  https://www.amazon.com/dp/B001E4KFG0  \n",
       "1  https://www.amazon.com/dp/B00813GRG4  \n",
       "2  https://www.amazon.com/dp/B000LQOCH0  \n",
       "3  https://www.amazon.com/dp/B000UA0QIQ  \n",
       "4  https://www.amazon.com/dp/B006K2ZZ7K  "
      ]
     },
     "execution_count": 6,
     "metadata": {},
     "output_type": "execute_result"
    }
   ],
   "source": [
    "amazon_df.head()"
   ]
  },
  {
   "cell_type": "markdown",
   "id": "bbfa5e94-5b9a-47d7-9131-f27bad641a3c",
   "metadata": {},
   "source": [
    "* Preprocessing"
   ]
  },
  {
   "cell_type": "code",
   "execution_count": 24,
   "id": "c5b723ee-e066-47cd-8930-0ed7e3242977",
   "metadata": {},
   "outputs": [],
   "source": [
    "def clean_text(text):\n",
    "    # Decode HTML text\n",
    "    text = unescape(text)\n",
    "    #Lowercase\n",
    "    text = text.lower()\n",
    "    #Remove html tags\n",
    "    soup = BeautifulSoup(text,'html.parser')\n",
    "    text = soup.get_text()\n",
    "    # Remove Links\n",
    "    text = re.sub(r'http\\S+','',text)\n",
    "    # Remove Punctuation\n",
    "    text = re.sub(r'[^a-zA-Z0-9\\s]',' ',text)\n",
    "    # Remove Stopwords\n",
    "    stop_words = set(stopwords.words('english'))\n",
    "    text = ' '.join([word for word in text.split() if word not in stop_words])\n",
    "    return text"
   ]
  },
  {
   "cell_type": "code",
   "execution_count": 25,
   "id": "127ed504-20fa-4c4a-9b03-4ccd340427f3",
   "metadata": {},
   "outputs": [
    {
     "data": {
      "text/plain": [
       "''"
      ]
     },
     "execution_count": 25,
     "metadata": {},
     "output_type": "execute_result"
    }
   ],
   "source": [
    "mr = 'not for me'\n",
    "mr = clean_text(mr)\n",
    "mr"
   ]
  },
  {
   "cell_type": "code",
   "execution_count": 8,
   "id": "a6dc0c5c-ed41-4464-8ef4-0f0a1c6fdb75",
   "metadata": {},
   "outputs": [
    {
     "name": "stderr",
     "output_type": "stream",
     "text": [
      "/tmp/ipykernel_19234/2620810371.py:7: MarkupResemblesLocatorWarning: The input looks more like a filename than markup. You may want to open this file and pass the filehandle into Beautiful Soup.\n",
      "  soup = BeautifulSoup(text,'html.parser')\n",
      "/tmp/ipykernel_19234/2620810371.py:7: MarkupResemblesLocatorWarning: The input looks more like a URL than markup. You may want to use an HTTP client like requests to get the document behind the URL, and feed that document to Beautiful Soup.\n",
      "  soup = BeautifulSoup(text,'html.parser')\n"
     ]
    }
   ],
   "source": [
    "amazon_df['Text'] = amazon_df['Text'].apply(clean_text)\n",
    "amazon_df['Summary'] = amazon_df['Summary'].apply(clean_text)"
   ]
  },
  {
   "cell_type": "code",
   "execution_count": 9,
   "id": "30a51e02-7674-4f11-991c-395f410b7fa6",
   "metadata": {},
   "outputs": [],
   "source": [
    "amazon_df.to_csv('amazon_df.csv')"
   ]
  },
  {
   "cell_type": "markdown",
   "id": "e8e82041-6a45-4d8b-b90c-88d4db01f539",
   "metadata": {},
   "source": [
    "### Open Preprocessed Dataset"
   ]
  },
  {
   "cell_type": "code",
   "execution_count": 10,
   "id": "75d3d74c-3e7f-4585-a041-683536551a78",
   "metadata": {},
   "outputs": [],
   "source": [
    "amazon_df = pd.read_csv('amazon_df.csv',index_col=0)"
   ]
  },
  {
   "cell_type": "markdown",
   "id": "76463897-37d8-4752-aac9-b919fc070dfa",
   "metadata": {},
   "source": [
    "# Check languages \n",
    "\n",
    "* To enhance data preprocessing, it is essential to verify that all text is in English."
   ]
  },
  {
   "cell_type": "code",
   "execution_count": 11,
   "id": "ece2c0eb-e3a3-4850-8556-a6afff5f1647",
   "metadata": {},
   "outputs": [],
   "source": [
    "# language detection\n",
    "from langdetect import detect"
   ]
  },
  {
   "cell_type": "code",
   "execution_count": 12,
   "id": "e1e3cf92-b031-455a-b7dc-14ef42af70fd",
   "metadata": {},
   "outputs": [
    {
     "data": {
      "text/plain": [
       "'es'"
      ]
     },
     "execution_count": 12,
     "metadata": {},
     "output_type": "execute_result"
    }
   ],
   "source": [
    "#blob.detect_language() \n",
    "# it seems detect_language() shows error, however, I found some other resource\n",
    "from langdetect import detect\n",
    "detect('هيا بنا نلعب')\n",
    "detect('Cuando termina la clase')"
   ]
  },
  {
   "cell_type": "markdown",
   "id": "c420406b-9952-4348-b2b6-3eebb5f0fa61",
   "metadata": {},
   "source": [
    "### Language Detection\n",
    "* `pip install langdetect`\n",
    "\n",
    "Sometimes `langdetect` has errors when trying to recognize the language, so you should double-check if the text is not in English."
   ]
  },
  {
   "cell_type": "code",
   "execution_count": 13,
   "id": "c784dd19-4828-4d84-80de-c3213ca23ba7",
   "metadata": {},
   "outputs": [],
   "source": [
    "# detect language; return undefined if language is not detected\n",
    "\n",
    "def detect_language(text):\n",
    "    try:\n",
    "        result = detect(text)\n",
    "    except:\n",
    "        result = 'undefined'\n",
    "    return result"
   ]
  },
  {
   "cell_type": "code",
   "execution_count": 14,
   "id": "97308ed0-3d92-4718-abd0-6b2cdee33a69",
   "metadata": {},
   "outputs": [],
   "source": [
    "# check each row; if the column is already in the dataframe, skip process\n",
    "\n",
    "if 'language' not in amazon_df.columns:\n",
    "    amazon_df['language'] = amazon_df['Text'].apply(lambda x: detect_language(x))"
   ]
  },
  {
   "cell_type": "code",
   "execution_count": 15,
   "id": "295da334-591e-46eb-a12c-5897ec4b617e",
   "metadata": {},
   "outputs": [],
   "source": [
    "# Takes some time to dectect the language; override the dataset with new column 'language'\n",
    "\n",
    "amazon_df.to_csv('amazon_df.csv')"
   ]
  },
  {
   "cell_type": "code",
   "execution_count": 2,
   "id": "e8b9541c-e5ad-4a55-bc0a-8ed28c3e56fb",
   "metadata": {},
   "outputs": [],
   "source": [
    "amazon_df = pd.read_csv('amazon_df.csv',index_col=0)"
   ]
  },
  {
   "cell_type": "code",
   "execution_count": 16,
   "id": "9f9c09c9-4254-4bff-bc4b-3b0ad11cda12",
   "metadata": {},
   "outputs": [
    {
     "data": {
      "text/html": [
       "<div>\n",
       "<style scoped>\n",
       "    .dataframe tbody tr th:only-of-type {\n",
       "        vertical-align: middle;\n",
       "    }\n",
       "\n",
       "    .dataframe tbody tr th {\n",
       "        vertical-align: top;\n",
       "    }\n",
       "\n",
       "    .dataframe thead th {\n",
       "        text-align: right;\n",
       "    }\n",
       "</style>\n",
       "<table border=\"1\" class=\"dataframe\">\n",
       "  <thead>\n",
       "    <tr style=\"text-align: right;\">\n",
       "      <th></th>\n",
       "      <th>Id</th>\n",
       "      <th>ProductId</th>\n",
       "      <th>UserId</th>\n",
       "      <th>ProfileName</th>\n",
       "      <th>HelpfulnessNumerator</th>\n",
       "      <th>HelpfulnessDenominator</th>\n",
       "      <th>Score</th>\n",
       "      <th>Time</th>\n",
       "      <th>Summary</th>\n",
       "      <th>Text</th>\n",
       "      <th>ProductURL</th>\n",
       "      <th>language</th>\n",
       "    </tr>\n",
       "  </thead>\n",
       "  <tbody>\n",
       "    <tr>\n",
       "      <th>0</th>\n",
       "      <td>1</td>\n",
       "      <td>B001E4KFG0</td>\n",
       "      <td>A3SGXH7AUHU8GW</td>\n",
       "      <td>delmartian</td>\n",
       "      <td>1</td>\n",
       "      <td>1</td>\n",
       "      <td>5</td>\n",
       "      <td>1303862400</td>\n",
       "      <td>good quality dog food</td>\n",
       "      <td>bought several vitality canned dog food produc...</td>\n",
       "      <td>https://www.amazon.com/dp/B001E4KFG0</td>\n",
       "      <td>en</td>\n",
       "    </tr>\n",
       "    <tr>\n",
       "      <th>1</th>\n",
       "      <td>2</td>\n",
       "      <td>B00813GRG4</td>\n",
       "      <td>A1D87F6ZCVE5NK</td>\n",
       "      <td>dll pa</td>\n",
       "      <td>0</td>\n",
       "      <td>0</td>\n",
       "      <td>1</td>\n",
       "      <td>1346976000</td>\n",
       "      <td>advertised</td>\n",
       "      <td>product arrived labeled jumbo salted peanuts p...</td>\n",
       "      <td>https://www.amazon.com/dp/B00813GRG4</td>\n",
       "      <td>en</td>\n",
       "    </tr>\n",
       "    <tr>\n",
       "      <th>2</th>\n",
       "      <td>3</td>\n",
       "      <td>B000LQOCH0</td>\n",
       "      <td>ABXLMWJIXXAIN</td>\n",
       "      <td>Natalia Corres \"Natalia Corres\"</td>\n",
       "      <td>1</td>\n",
       "      <td>1</td>\n",
       "      <td>4</td>\n",
       "      <td>1219017600</td>\n",
       "      <td>delight says</td>\n",
       "      <td>confection around centuries light pillowy citr...</td>\n",
       "      <td>https://www.amazon.com/dp/B000LQOCH0</td>\n",
       "      <td>en</td>\n",
       "    </tr>\n",
       "    <tr>\n",
       "      <th>3</th>\n",
       "      <td>4</td>\n",
       "      <td>B000UA0QIQ</td>\n",
       "      <td>A395BORC6FGVXV</td>\n",
       "      <td>Karl</td>\n",
       "      <td>3</td>\n",
       "      <td>3</td>\n",
       "      <td>2</td>\n",
       "      <td>1307923200</td>\n",
       "      <td>cough medicine</td>\n",
       "      <td>looking secret ingredient robitussin believe f...</td>\n",
       "      <td>https://www.amazon.com/dp/B000UA0QIQ</td>\n",
       "      <td>en</td>\n",
       "    </tr>\n",
       "    <tr>\n",
       "      <th>4</th>\n",
       "      <td>5</td>\n",
       "      <td>B006K2ZZ7K</td>\n",
       "      <td>A1UQRSCLF8GW1T</td>\n",
       "      <td>Michael D. Bigham \"M. Wassir\"</td>\n",
       "      <td>0</td>\n",
       "      <td>0</td>\n",
       "      <td>5</td>\n",
       "      <td>1350777600</td>\n",
       "      <td>great taffy</td>\n",
       "      <td>great taffy great price wide assortment yummy ...</td>\n",
       "      <td>https://www.amazon.com/dp/B006K2ZZ7K</td>\n",
       "      <td>en</td>\n",
       "    </tr>\n",
       "  </tbody>\n",
       "</table>\n",
       "</div>"
      ],
      "text/plain": [
       "   Id   ProductId          UserId                      ProfileName  \\\n",
       "0   1  B001E4KFG0  A3SGXH7AUHU8GW                       delmartian   \n",
       "1   2  B00813GRG4  A1D87F6ZCVE5NK                           dll pa   \n",
       "2   3  B000LQOCH0   ABXLMWJIXXAIN  Natalia Corres \"Natalia Corres\"   \n",
       "3   4  B000UA0QIQ  A395BORC6FGVXV                             Karl   \n",
       "4   5  B006K2ZZ7K  A1UQRSCLF8GW1T    Michael D. Bigham \"M. Wassir\"   \n",
       "\n",
       "   HelpfulnessNumerator  HelpfulnessDenominator  Score        Time  \\\n",
       "0                     1                       1      5  1303862400   \n",
       "1                     0                       0      1  1346976000   \n",
       "2                     1                       1      4  1219017600   \n",
       "3                     3                       3      2  1307923200   \n",
       "4                     0                       0      5  1350777600   \n",
       "\n",
       "                 Summary                                               Text  \\\n",
       "0  good quality dog food  bought several vitality canned dog food produc...   \n",
       "1             advertised  product arrived labeled jumbo salted peanuts p...   \n",
       "2           delight says  confection around centuries light pillowy citr...   \n",
       "3         cough medicine  looking secret ingredient robitussin believe f...   \n",
       "4            great taffy  great taffy great price wide assortment yummy ...   \n",
       "\n",
       "                             ProductURL language  \n",
       "0  https://www.amazon.com/dp/B001E4KFG0       en  \n",
       "1  https://www.amazon.com/dp/B00813GRG4       en  \n",
       "2  https://www.amazon.com/dp/B000LQOCH0       en  \n",
       "3  https://www.amazon.com/dp/B000UA0QIQ       en  \n",
       "4  https://www.amazon.com/dp/B006K2ZZ7K       en  "
      ]
     },
     "execution_count": 16,
     "metadata": {},
     "output_type": "execute_result"
    }
   ],
   "source": [
    "amazon_df.head()"
   ]
  },
  {
   "cell_type": "markdown",
   "id": "ca4cd9c7-edf1-4487-8489-cb106309d006",
   "metadata": {},
   "source": [
    "* __Obs__: It seems that not all the rows are in english. Checking rows with __langdetect__"
   ]
  },
  {
   "cell_type": "code",
   "execution_count": 3,
   "id": "13f77155-6681-4c78-8763-52b84115dfd5",
   "metadata": {},
   "outputs": [
    {
     "data": {
      "text/plain": [
       "language\n",
       "en           560594\n",
       "da             1981\n",
       "af             1681\n",
       "no             1488\n",
       "nl              453\n",
       "it              425\n",
       "fr              418\n",
       "ro              304\n",
       "ca              284\n",
       "et              205\n",
       "es              189\n",
       "sv              147\n",
       "tl               44\n",
       "cy               41\n",
       "sk               23\n",
       "id               21\n",
       "sl               19\n",
       "so               18\n",
       "hr               16\n",
       "pt               15\n",
       "tr                7\n",
       "de                6\n",
       "sq                5\n",
       "pl                5\n",
       "sw                3\n",
       "fi                3\n",
       "cs                2\n",
       "lt                2\n",
       "undefined         1\n",
       "lv                1\n",
       "Name: count, dtype: int64"
      ]
     },
     "execution_count": 3,
     "metadata": {},
     "output_type": "execute_result"
    }
   ],
   "source": [
    "amazon_df['language'].value_counts()"
   ]
  },
  {
   "cell_type": "code",
   "execution_count": 5,
   "id": "800fd962-11f2-4e27-86e9-edd6db3929c3",
   "metadata": {},
   "outputs": [
    {
     "data": {
      "text/plain": [
       "['da',\n",
       " 'af',\n",
       " 'no',\n",
       " 'nl',\n",
       " 'it',\n",
       " 'fr',\n",
       " 'ro',\n",
       " 'ca',\n",
       " 'et',\n",
       " 'es',\n",
       " 'sv',\n",
       " 'tl',\n",
       " 'cy',\n",
       " 'sk',\n",
       " 'id',\n",
       " 'sl',\n",
       " 'so',\n",
       " 'hr',\n",
       " 'pt',\n",
       " 'tr',\n",
       " 'de',\n",
       " 'sq',\n",
       " 'pl',\n",
       " 'sw',\n",
       " 'fi',\n",
       " 'cs',\n",
       " 'lt',\n",
       " 'undefined',\n",
       " 'lv']"
      ]
     },
     "execution_count": 5,
     "metadata": {},
     "output_type": "execute_result"
    }
   ],
   "source": [
    "# Store a list of languages\n",
    "\n",
    "language_list = amazon_df['language'].value_counts().reset_index()['language'].to_list()\n",
    "language_list[1:]"
   ]
  },
  {
   "cell_type": "markdown",
   "id": "9697765e-bbfc-4b86-a432-bac79c8dc3d2",
   "metadata": {},
   "source": [
    "### Must delete\n",
    "delete vi"
   ]
  },
  {
   "cell_type": "code",
   "execution_count": 6,
   "id": "fab9c090-20b1-4ffa-9185-f4c39b1ea328",
   "metadata": {},
   "outputs": [],
   "source": [
    "# checking text that are not recognize as english\n",
    "\n",
    "# amazon_df[amazon_df['language'].isin(language_list[1:])]"
   ]
  },
  {
   "cell_type": "code",
   "execution_count": 7,
   "id": "ff751a40-fe99-49cb-a453-6808381f822d",
   "metadata": {},
   "outputs": [
    {
     "data": {
      "text/plain": [
       "233938    NaN\n",
       "Name: Text, dtype: object"
      ]
     },
     "execution_count": 7,
     "metadata": {},
     "output_type": "execute_result"
    }
   ],
   "source": [
    "# personalized searching for each language\n",
    "\n",
    "text = amazon_df[(amazon_df['language'].isin(language_list[1:])) & (amazon_df['language']== 'undefined')]['Text']\n",
    "text"
   ]
  },
  {
   "cell_type": "code",
   "execution_count": 21,
   "id": "83151a7f-4cb9-4f21-b21a-a0c54bdeff96",
   "metadata": {},
   "outputs": [
    {
     "name": "stdout",
     "output_type": "stream",
     "text": [
      "nan\n"
     ]
    }
   ],
   "source": [
    "# Check the text for language recognition and use a for loop to print the entire message.\n",
    "\n",
    "for i in range(len(text)):\n",
    "    print(text[text.index][text.index[i]])"
   ]
  },
  {
   "cell_type": "code",
   "execution_count": 22,
   "id": "26baf3b7-1ccf-4e64-8ba6-99ef1dd6d7ed",
   "metadata": {},
   "outputs": [
    {
     "data": {
      "text/plain": [
       "language\n",
       "en           560594\n",
       "da             1981\n",
       "af             1681\n",
       "no             1488\n",
       "nl              453\n",
       "it              425\n",
       "fr              418\n",
       "ro              304\n",
       "ca              284\n",
       "et              205\n",
       "es              189\n",
       "sv              147\n",
       "tl               44\n",
       "cy               41\n",
       "sk               23\n",
       "id               21\n",
       "sl               19\n",
       "so               18\n",
       "hr               16\n",
       "pt               15\n",
       "tr                7\n",
       "de                6\n",
       "sq                5\n",
       "pl                5\n",
       "sw                3\n",
       "fi                3\n",
       "cs                2\n",
       "lt                2\n",
       "undefined         1\n",
       "lv                1\n",
       "Name: count, dtype: int64"
      ]
     },
     "execution_count": 22,
     "metadata": {},
     "output_type": "execute_result"
    }
   ],
   "source": [
    "amazon_df['language'].value_counts()"
   ]
  },
  {
   "cell_type": "code",
   "execution_count": 14,
   "id": "277bb651-1fe3-4427-8457-c2b2f8889b71",
   "metadata": {},
   "outputs": [
    {
     "data": {
      "text/html": [
       "<div>\n",
       "<style scoped>\n",
       "    .dataframe tbody tr th:only-of-type {\n",
       "        vertical-align: middle;\n",
       "    }\n",
       "\n",
       "    .dataframe tbody tr th {\n",
       "        vertical-align: top;\n",
       "    }\n",
       "\n",
       "    .dataframe thead th {\n",
       "        text-align: right;\n",
       "    }\n",
       "</style>\n",
       "<table border=\"1\" class=\"dataframe\">\n",
       "  <thead>\n",
       "    <tr style=\"text-align: right;\">\n",
       "      <th></th>\n",
       "      <th>Id</th>\n",
       "      <th>ProductId</th>\n",
       "      <th>UserId</th>\n",
       "      <th>ProfileName</th>\n",
       "      <th>HelpfulnessNumerator</th>\n",
       "      <th>HelpfulnessDenominator</th>\n",
       "      <th>Score</th>\n",
       "      <th>Time</th>\n",
       "      <th>Summary</th>\n",
       "      <th>Text</th>\n",
       "      <th>ProductURL</th>\n",
       "      <th>language</th>\n",
       "    </tr>\n",
       "  </thead>\n",
       "  <tbody>\n",
       "    <tr>\n",
       "      <th>131</th>\n",
       "      <td>132</td>\n",
       "      <td>B003OB0IB8</td>\n",
       "      <td>A2DLRG3YX6A2ZU</td>\n",
       "      <td>luckybabe</td>\n",
       "      <td>2</td>\n",
       "      <td>3</td>\n",
       "      <td>2</td>\n",
       "      <td>1323820800</td>\n",
       "      <td>NaN</td>\n",
       "      <td>must bit wuss soup tastes imagine fire might t...</td>\n",
       "      <td>https://www.amazon.com/dp/B003OB0IB8</td>\n",
       "      <td>en</td>\n",
       "    </tr>\n",
       "    <tr>\n",
       "      <th>335</th>\n",
       "      <td>336</td>\n",
       "      <td>B00469VSJI</td>\n",
       "      <td>A1447CDAPZGLYV</td>\n",
       "      <td>SANA AWAR</td>\n",
       "      <td>0</td>\n",
       "      <td>0</td>\n",
       "      <td>1</td>\n",
       "      <td>1326499200</td>\n",
       "      <td>NaN</td>\n",
       "      <td>serveice delivery seller excellent product ord...</td>\n",
       "      <td>https://www.amazon.com/dp/B00469VSJI</td>\n",
       "      <td>en</td>\n",
       "    </tr>\n",
       "    <tr>\n",
       "      <th>1219</th>\n",
       "      <td>1220</td>\n",
       "      <td>B005O072PC</td>\n",
       "      <td>A3UAV8WK31RJY5</td>\n",
       "      <td>Captain Cap \"Captain Cap\"</td>\n",
       "      <td>1</td>\n",
       "      <td>1</td>\n",
       "      <td>4</td>\n",
       "      <td>1341878400</td>\n",
       "      <td>NaN</td>\n",
       "      <td>received 4 first ever omaha steaks order recei...</td>\n",
       "      <td>https://www.amazon.com/dp/B005O072PC</td>\n",
       "      <td>en</td>\n",
       "    </tr>\n",
       "    <tr>\n",
       "      <th>2639</th>\n",
       "      <td>2640</td>\n",
       "      <td>B0016FY6H6</td>\n",
       "      <td>A3J171NBGIBYAW</td>\n",
       "      <td>D. Mansfield \"Book Addict\"</td>\n",
       "      <td>0</td>\n",
       "      <td>0</td>\n",
       "      <td>2</td>\n",
       "      <td>1346803200</td>\n",
       "      <td>NaN</td>\n",
       "      <td>wanted desperately love even like drink mix su...</td>\n",
       "      <td>https://www.amazon.com/dp/B0016FY6H6</td>\n",
       "      <td>en</td>\n",
       "    </tr>\n",
       "    <tr>\n",
       "      <th>3280</th>\n",
       "      <td>3281</td>\n",
       "      <td>B005K4Q1VI</td>\n",
       "      <td>APTGM66PJRNGC</td>\n",
       "      <td>J. Slade</td>\n",
       "      <td>0</td>\n",
       "      <td>0</td>\n",
       "      <td>2</td>\n",
       "      <td>1330992000</td>\n",
       "      <td>NaN</td>\n",
       "      <td>easy use best flavor much sugar quality though...</td>\n",
       "      <td>https://www.amazon.com/dp/B005K4Q1VI</td>\n",
       "      <td>en</td>\n",
       "    </tr>\n",
       "    <tr>\n",
       "      <th>...</th>\n",
       "      <td>...</td>\n",
       "      <td>...</td>\n",
       "      <td>...</td>\n",
       "      <td>...</td>\n",
       "      <td>...</td>\n",
       "      <td>...</td>\n",
       "      <td>...</td>\n",
       "      <td>...</td>\n",
       "      <td>...</td>\n",
       "      <td>...</td>\n",
       "      <td>...</td>\n",
       "      <td>...</td>\n",
       "    </tr>\n",
       "    <tr>\n",
       "      <th>567192</th>\n",
       "      <td>567193</td>\n",
       "      <td>B000LL0R92</td>\n",
       "      <td>A213624L3ZBL2B</td>\n",
       "      <td>margeaw</td>\n",
       "      <td>0</td>\n",
       "      <td>0</td>\n",
       "      <td>1</td>\n",
       "      <td>1333929600</td>\n",
       "      <td>NaN</td>\n",
       "      <td>thought sounded interesting healthy taste awfu...</td>\n",
       "      <td>https://www.amazon.com/dp/B000LL0R92</td>\n",
       "      <td>en</td>\n",
       "    </tr>\n",
       "    <tr>\n",
       "      <th>567239</th>\n",
       "      <td>567240</td>\n",
       "      <td>B001FA1LF2</td>\n",
       "      <td>A3CVZZF48URP26</td>\n",
       "      <td>GFMom</td>\n",
       "      <td>1</td>\n",
       "      <td>1</td>\n",
       "      <td>3</td>\n",
       "      <td>1274745600</td>\n",
       "      <td>NaN</td>\n",
       "      <td>high expectations bread since love schar class...</td>\n",
       "      <td>https://www.amazon.com/dp/B001FA1LF2</td>\n",
       "      <td>en</td>\n",
       "    </tr>\n",
       "    <tr>\n",
       "      <th>567660</th>\n",
       "      <td>567661</td>\n",
       "      <td>B005K4Q68Q</td>\n",
       "      <td>APTGM66PJRNGC</td>\n",
       "      <td>J. Slade</td>\n",
       "      <td>0</td>\n",
       "      <td>0</td>\n",
       "      <td>2</td>\n",
       "      <td>1330992000</td>\n",
       "      <td>NaN</td>\n",
       "      <td>easy use best flavor much sugar quality though...</td>\n",
       "      <td>https://www.amazon.com/dp/B005K4Q68Q</td>\n",
       "      <td>en</td>\n",
       "    </tr>\n",
       "    <tr>\n",
       "      <th>567937</th>\n",
       "      <td>567938</td>\n",
       "      <td>B0030VJ8YU</td>\n",
       "      <td>A90I4J49NU3XN</td>\n",
       "      <td>Amy W</td>\n",
       "      <td>0</td>\n",
       "      <td>0</td>\n",
       "      <td>3</td>\n",
       "      <td>1317772800</td>\n",
       "      <td>NaN</td>\n",
       "      <td>18 month old likes eat pretty much antying ped...</td>\n",
       "      <td>https://www.amazon.com/dp/B0030VJ8YU</td>\n",
       "      <td>en</td>\n",
       "    </tr>\n",
       "    <tr>\n",
       "      <th>568267</th>\n",
       "      <td>568268</td>\n",
       "      <td>B00374ZKQ0</td>\n",
       "      <td>A22UP57PZNGP3A</td>\n",
       "      <td>B. P. \"coffee lover\"</td>\n",
       "      <td>0</td>\n",
       "      <td>1</td>\n",
       "      <td>2</td>\n",
       "      <td>1326153600</td>\n",
       "      <td>NaN</td>\n",
       "      <td>tried first time dump otherwise good cup coffe...</td>\n",
       "      <td>https://www.amazon.com/dp/B00374ZKQ0</td>\n",
       "      <td>en</td>\n",
       "    </tr>\n",
       "  </tbody>\n",
       "</table>\n",
       "<p>1260 rows × 12 columns</p>\n",
       "</div>"
      ],
      "text/plain": [
       "            Id   ProductId          UserId                 ProfileName  \\\n",
       "131        132  B003OB0IB8  A2DLRG3YX6A2ZU                   luckybabe   \n",
       "335        336  B00469VSJI  A1447CDAPZGLYV                   SANA AWAR   \n",
       "1219      1220  B005O072PC  A3UAV8WK31RJY5   Captain Cap \"Captain Cap\"   \n",
       "2639      2640  B0016FY6H6  A3J171NBGIBYAW  D. Mansfield \"Book Addict\"   \n",
       "3280      3281  B005K4Q1VI   APTGM66PJRNGC                    J. Slade   \n",
       "...        ...         ...             ...                         ...   \n",
       "567192  567193  B000LL0R92  A213624L3ZBL2B                     margeaw   \n",
       "567239  567240  B001FA1LF2  A3CVZZF48URP26                       GFMom   \n",
       "567660  567661  B005K4Q68Q   APTGM66PJRNGC                    J. Slade   \n",
       "567937  567938  B0030VJ8YU   A90I4J49NU3XN                       Amy W   \n",
       "568267  568268  B00374ZKQ0  A22UP57PZNGP3A        B. P. \"coffee lover\"   \n",
       "\n",
       "        HelpfulnessNumerator  HelpfulnessDenominator  Score        Time  \\\n",
       "131                        2                       3      2  1323820800   \n",
       "335                        0                       0      1  1326499200   \n",
       "1219                       1                       1      4  1341878400   \n",
       "2639                       0                       0      2  1346803200   \n",
       "3280                       0                       0      2  1330992000   \n",
       "...                      ...                     ...    ...         ...   \n",
       "567192                     0                       0      1  1333929600   \n",
       "567239                     1                       1      3  1274745600   \n",
       "567660                     0                       0      2  1330992000   \n",
       "567937                     0                       0      3  1317772800   \n",
       "568267                     0                       1      2  1326153600   \n",
       "\n",
       "       Summary                                               Text  \\\n",
       "131        NaN  must bit wuss soup tastes imagine fire might t...   \n",
       "335        NaN  serveice delivery seller excellent product ord...   \n",
       "1219       NaN  received 4 first ever omaha steaks order recei...   \n",
       "2639       NaN  wanted desperately love even like drink mix su...   \n",
       "3280       NaN  easy use best flavor much sugar quality though...   \n",
       "...        ...                                                ...   \n",
       "567192     NaN  thought sounded interesting healthy taste awfu...   \n",
       "567239     NaN  high expectations bread since love schar class...   \n",
       "567660     NaN  easy use best flavor much sugar quality though...   \n",
       "567937     NaN  18 month old likes eat pretty much antying ped...   \n",
       "568267     NaN  tried first time dump otherwise good cup coffe...   \n",
       "\n",
       "                                  ProductURL language  \n",
       "131     https://www.amazon.com/dp/B003OB0IB8       en  \n",
       "335     https://www.amazon.com/dp/B00469VSJI       en  \n",
       "1219    https://www.amazon.com/dp/B005O072PC       en  \n",
       "2639    https://www.amazon.com/dp/B0016FY6H6       en  \n",
       "3280    https://www.amazon.com/dp/B005K4Q1VI       en  \n",
       "...                                      ...      ...  \n",
       "567192  https://www.amazon.com/dp/B000LL0R92       en  \n",
       "567239  https://www.amazon.com/dp/B001FA1LF2       en  \n",
       "567660  https://www.amazon.com/dp/B005K4Q68Q       en  \n",
       "567937  https://www.amazon.com/dp/B0030VJ8YU       en  \n",
       "568267  https://www.amazon.com/dp/B00374ZKQ0       en  \n",
       "\n",
       "[1260 rows x 12 columns]"
      ]
     },
     "execution_count": 14,
     "metadata": {},
     "output_type": "execute_result"
    }
   ],
   "source": [
    "amazon_df[amazon_df.isnull().any(axis=1)]"
   ]
  },
  {
   "cell_type": "code",
   "execution_count": 23,
   "id": "f5055dec-7087-4365-a891-f1d92fec1bd2",
   "metadata": {},
   "outputs": [
    {
     "data": {
      "text/plain": [
       "Id                           0\n",
       "ProductId                    0\n",
       "UserId                       0\n",
       "ProfileName                  0\n",
       "HelpfulnessNumerator         0\n",
       "HelpfulnessDenominator       0\n",
       "Score                        0\n",
       "Time                         0\n",
       "Summary                   1260\n",
       "Text                         1\n",
       "ProductURL                   0\n",
       "language                     0\n",
       "dtype: int64"
      ]
     },
     "execution_count": 23,
     "metadata": {},
     "output_type": "execute_result"
    }
   ],
   "source": [
    "amazon_df.isna().sum()"
   ]
  },
  {
   "cell_type": "code",
   "execution_count": 23,
   "id": "67a8df1b-91d5-44fc-8526-a5072789ac17",
   "metadata": {},
   "outputs": [
    {
     "data": {
      "text/plain": [
       "'af'"
      ]
     },
     "execution_count": 23,
     "metadata": {},
     "output_type": "execute_result"
    }
   ],
   "source": [
    "a = detect_language(\"say wonderful highlight weekend ohhhhhh use soda water liquid even better\")\n",
    "a"
   ]
  },
  {
   "cell_type": "markdown",
   "id": "4f7c4345-de5b-44c0-b971-ff35a24c9f9d",
   "metadata": {},
   "source": [
    "### TextBlob Analysis"
   ]
  },
  {
   "cell_type": "code",
   "execution_count": 24,
   "id": "c7ba4dd3-9fb5-43e9-afb9-cf18ce8cf8aa",
   "metadata": {},
   "outputs": [],
   "source": [
    "from textblob import TextBlob"
   ]
  },
  {
   "cell_type": "code",
   "execution_count": 25,
   "id": "6b375a7c-9815-466a-afc6-d4c6add75e44",
   "metadata": {},
   "outputs": [
    {
     "ename": "TypeError",
     "evalue": "The `text` argument passed to `__init__(text)` must be a string, not <class 'pandas.core.series.Series'>",
     "output_type": "error",
     "traceback": [
      "\u001b[0;31m---------------------------------------------------------------------------\u001b[0m",
      "\u001b[0;31mTypeError\u001b[0m                                 Traceback (most recent call last)",
      "Cell \u001b[0;32mIn[25], line 1\u001b[0m\n\u001b[0;32m----> 1\u001b[0m blob \u001b[38;5;241m=\u001b[39m TextBlob(text)\n",
      "File \u001b[0;32m~/anaconda3/lib/python3.11/site-packages/textblob/blob.py:371\u001b[0m, in \u001b[0;36mBaseBlob.__init__\u001b[0;34m(self, text, tokenizer, pos_tagger, np_extractor, analyzer, parser, classifier, clean_html)\u001b[0m\n\u001b[1;32m    359\u001b[0m \u001b[38;5;28;01mdef\u001b[39;00m \u001b[38;5;21m__init__\u001b[39m(\n\u001b[1;32m    360\u001b[0m     \u001b[38;5;28mself\u001b[39m,\n\u001b[1;32m    361\u001b[0m     text,\n\u001b[0;32m   (...)\u001b[0m\n\u001b[1;32m    368\u001b[0m     clean_html\u001b[38;5;241m=\u001b[39m\u001b[38;5;28;01mFalse\u001b[39;00m,\n\u001b[1;32m    369\u001b[0m ):\n\u001b[1;32m    370\u001b[0m     \u001b[38;5;28;01mif\u001b[39;00m \u001b[38;5;129;01mnot\u001b[39;00m \u001b[38;5;28misinstance\u001b[39m(text, basestring):\n\u001b[0;32m--> 371\u001b[0m         \u001b[38;5;28;01mraise\u001b[39;00m \u001b[38;5;167;01mTypeError\u001b[39;00m(\n\u001b[1;32m    372\u001b[0m             \u001b[38;5;124m\"\u001b[39m\u001b[38;5;124mThe `text` argument passed to `__init__(text)` \u001b[39m\u001b[38;5;124m\"\u001b[39m\n\u001b[1;32m    373\u001b[0m             \u001b[38;5;124mf\u001b[39m\u001b[38;5;124m\"\u001b[39m\u001b[38;5;124mmust be a string, not \u001b[39m\u001b[38;5;132;01m{\u001b[39;00m\u001b[38;5;28mtype\u001b[39m(text)\u001b[38;5;132;01m}\u001b[39;00m\u001b[38;5;124m\"\u001b[39m\n\u001b[1;32m    374\u001b[0m         )\n\u001b[1;32m    375\u001b[0m     \u001b[38;5;28;01mif\u001b[39;00m clean_html:\n\u001b[1;32m    376\u001b[0m         \u001b[38;5;28;01mraise\u001b[39;00m \u001b[38;5;167;01mNotImplementedError\u001b[39;00m(\n\u001b[1;32m    377\u001b[0m             \u001b[38;5;124m\"\u001b[39m\u001b[38;5;124mclean_html has been deprecated. \u001b[39m\u001b[38;5;124m\"\u001b[39m\n\u001b[1;32m    378\u001b[0m             \u001b[38;5;124m\"\u001b[39m\u001b[38;5;124mTo remove HTML markup, use BeautifulSoup\u001b[39m\u001b[38;5;124m'\u001b[39m\u001b[38;5;124ms \u001b[39m\u001b[38;5;124m\"\u001b[39m\n\u001b[1;32m    379\u001b[0m             \u001b[38;5;124m\"\u001b[39m\u001b[38;5;124mget_text() function\u001b[39m\u001b[38;5;124m\"\u001b[39m\n\u001b[1;32m    380\u001b[0m         )\n",
      "\u001b[0;31mTypeError\u001b[0m: The `text` argument passed to `__init__(text)` must be a string, not <class 'pandas.core.series.Series'>"
     ]
    }
   ],
   "source": [
    "blob = TextBlob(text)"
   ]
  },
  {
   "cell_type": "code",
   "execution_count": null,
   "id": "63843d15-78b5-4b5a-963e-b1daab30f36b",
   "metadata": {},
   "outputs": [],
   "source": [
    "# Analyzing words, senteces and part-of-speach tagging\n",
    "\n",
    "blob.words\n",
    "blob.tags\n",
    "blob.noun_phrases\n",
    "blob.sentences"
   ]
  },
  {
   "cell_type": "code",
   "execution_count": null,
   "id": "bbd35c66-6423-40d9-895d-1ce048ad0bd2",
   "metadata": {},
   "outputs": [],
   "source": [
    "blob.sentiment_assessments"
   ]
  },
  {
   "cell_type": "markdown",
   "id": "bba1ca66-06a7-476d-b453-33ac2686414b",
   "metadata": {},
   "source": [
    "### Tranlation\n",
    "1. `pip install translate`\n",
    "2. Check translate version `pip list | grep translate`"
   ]
  },
  {
   "cell_type": "code",
   "execution_count": null,
   "id": "f2aee815-a08b-4b1a-ad4c-443399c820f4",
   "metadata": {},
   "outputs": [],
   "source": [
    "text"
   ]
  },
  {
   "cell_type": "code",
   "execution_count": null,
   "id": "2e1003f4-5743-4256-ad00-361ebe3b6121",
   "metadata": {},
   "outputs": [],
   "source": [
    "from translate import Translator\n",
    "\n",
    "translator = Translator(to_lang=\"fr\")  # Destination language (e.g., \"fr\" for French)\n",
    "translation = translator.translate(\"I like the product a lot but it sucks\")\n",
    "print(translation)\n"
   ]
  },
  {
   "cell_type": "code",
   "execution_count": null,
   "id": "a3419295-a969-41ad-ae80-a8617be0322b",
   "metadata": {},
   "outputs": [],
   "source": [
    "from translate import Translator\n",
    "\n",
    "translator = Translator(from_lang='es',to_lang=\"en\")  # Destination language (e.g., \"fr\" for French)\n",
    "translation = translator.translate(text)\n",
    "print(translation)\n",
    "\n"
   ]
  },
  {
   "cell_type": "code",
   "execution_count": null,
   "id": "72fa67f7-6ffc-4d94-81f5-cc5bb949b3cb",
   "metadata": {},
   "outputs": [],
   "source": []
  },
  {
   "cell_type": "code",
   "execution_count": null,
   "id": "26e21803-1065-4e4b-96ae-dda63106a42d",
   "metadata": {},
   "outputs": [],
   "source": []
  },
  {
   "cell_type": "code",
   "execution_count": 15,
   "id": "6b3e6187-adf3-4354-b284-4db6f36bfd81",
   "metadata": {},
   "outputs": [],
   "source": [
    "import pandas as pd\n",
    "import numpy as np"
   ]
  },
  {
   "cell_type": "code",
   "execution_count": 16,
   "id": "56287e9b-e98f-4ae0-aad3-3e8d695064e8",
   "metadata": {},
   "outputs": [],
   "source": [
    "g = pd.read_csv('Reviews_withURL.csv',index_col=0)"
   ]
  },
  {
   "cell_type": "code",
   "execution_count": 17,
   "id": "04dde204-aee3-4f8e-8e13-75d99fb8c0af",
   "metadata": {},
   "outputs": [
    {
     "data": {
      "text/html": [
       "<div>\n",
       "<style scoped>\n",
       "    .dataframe tbody tr th:only-of-type {\n",
       "        vertical-align: middle;\n",
       "    }\n",
       "\n",
       "    .dataframe tbody tr th {\n",
       "        vertical-align: top;\n",
       "    }\n",
       "\n",
       "    .dataframe thead th {\n",
       "        text-align: right;\n",
       "    }\n",
       "</style>\n",
       "<table border=\"1\" class=\"dataframe\">\n",
       "  <thead>\n",
       "    <tr style=\"text-align: right;\">\n",
       "      <th></th>\n",
       "      <th>Id</th>\n",
       "      <th>ProductId</th>\n",
       "      <th>UserId</th>\n",
       "      <th>ProfileName</th>\n",
       "      <th>HelpfulnessNumerator</th>\n",
       "      <th>HelpfulnessDenominator</th>\n",
       "      <th>Score</th>\n",
       "      <th>Time</th>\n",
       "      <th>Summary</th>\n",
       "      <th>Text</th>\n",
       "      <th>ProductURL</th>\n",
       "    </tr>\n",
       "  </thead>\n",
       "  <tbody>\n",
       "    <tr>\n",
       "      <th>0</th>\n",
       "      <td>1</td>\n",
       "      <td>B001E4KFG0</td>\n",
       "      <td>A3SGXH7AUHU8GW</td>\n",
       "      <td>delmartian</td>\n",
       "      <td>1</td>\n",
       "      <td>1</td>\n",
       "      <td>5</td>\n",
       "      <td>1303862400</td>\n",
       "      <td>Good Quality Dog Food</td>\n",
       "      <td>I have bought several of the Vitality canned d...</td>\n",
       "      <td>https://www.amazon.com/dp/B001E4KFG0</td>\n",
       "    </tr>\n",
       "    <tr>\n",
       "      <th>1</th>\n",
       "      <td>2</td>\n",
       "      <td>B00813GRG4</td>\n",
       "      <td>A1D87F6ZCVE5NK</td>\n",
       "      <td>dll pa</td>\n",
       "      <td>0</td>\n",
       "      <td>0</td>\n",
       "      <td>1</td>\n",
       "      <td>1346976000</td>\n",
       "      <td>Not as Advertised</td>\n",
       "      <td>Product arrived labeled as Jumbo Salted Peanut...</td>\n",
       "      <td>https://www.amazon.com/dp/B00813GRG4</td>\n",
       "    </tr>\n",
       "    <tr>\n",
       "      <th>2</th>\n",
       "      <td>3</td>\n",
       "      <td>B000LQOCH0</td>\n",
       "      <td>ABXLMWJIXXAIN</td>\n",
       "      <td>Natalia Corres \"Natalia Corres\"</td>\n",
       "      <td>1</td>\n",
       "      <td>1</td>\n",
       "      <td>4</td>\n",
       "      <td>1219017600</td>\n",
       "      <td>\"Delight\" says it all</td>\n",
       "      <td>This is a confection that has been around a fe...</td>\n",
       "      <td>https://www.amazon.com/dp/B000LQOCH0</td>\n",
       "    </tr>\n",
       "    <tr>\n",
       "      <th>3</th>\n",
       "      <td>4</td>\n",
       "      <td>B000UA0QIQ</td>\n",
       "      <td>A395BORC6FGVXV</td>\n",
       "      <td>Karl</td>\n",
       "      <td>3</td>\n",
       "      <td>3</td>\n",
       "      <td>2</td>\n",
       "      <td>1307923200</td>\n",
       "      <td>Cough Medicine</td>\n",
       "      <td>If you are looking for the secret ingredient i...</td>\n",
       "      <td>https://www.amazon.com/dp/B000UA0QIQ</td>\n",
       "    </tr>\n",
       "    <tr>\n",
       "      <th>4</th>\n",
       "      <td>5</td>\n",
       "      <td>B006K2ZZ7K</td>\n",
       "      <td>A1UQRSCLF8GW1T</td>\n",
       "      <td>Michael D. Bigham \"M. Wassir\"</td>\n",
       "      <td>0</td>\n",
       "      <td>0</td>\n",
       "      <td>5</td>\n",
       "      <td>1350777600</td>\n",
       "      <td>Great taffy</td>\n",
       "      <td>Great taffy at a great price.  There was a wid...</td>\n",
       "      <td>https://www.amazon.com/dp/B006K2ZZ7K</td>\n",
       "    </tr>\n",
       "  </tbody>\n",
       "</table>\n",
       "</div>"
      ],
      "text/plain": [
       "   Id   ProductId          UserId                      ProfileName  \\\n",
       "0   1  B001E4KFG0  A3SGXH7AUHU8GW                       delmartian   \n",
       "1   2  B00813GRG4  A1D87F6ZCVE5NK                           dll pa   \n",
       "2   3  B000LQOCH0   ABXLMWJIXXAIN  Natalia Corres \"Natalia Corres\"   \n",
       "3   4  B000UA0QIQ  A395BORC6FGVXV                             Karl   \n",
       "4   5  B006K2ZZ7K  A1UQRSCLF8GW1T    Michael D. Bigham \"M. Wassir\"   \n",
       "\n",
       "   HelpfulnessNumerator  HelpfulnessDenominator  Score        Time  \\\n",
       "0                     1                       1      5  1303862400   \n",
       "1                     0                       0      1  1346976000   \n",
       "2                     1                       1      4  1219017600   \n",
       "3                     3                       3      2  1307923200   \n",
       "4                     0                       0      5  1350777600   \n",
       "\n",
       "                 Summary                                               Text  \\\n",
       "0  Good Quality Dog Food  I have bought several of the Vitality canned d...   \n",
       "1      Not as Advertised  Product arrived labeled as Jumbo Salted Peanut...   \n",
       "2  \"Delight\" says it all  This is a confection that has been around a fe...   \n",
       "3         Cough Medicine  If you are looking for the secret ingredient i...   \n",
       "4            Great taffy  Great taffy at a great price.  There was a wid...   \n",
       "\n",
       "                             ProductURL  \n",
       "0  https://www.amazon.com/dp/B001E4KFG0  \n",
       "1  https://www.amazon.com/dp/B00813GRG4  \n",
       "2  https://www.amazon.com/dp/B000LQOCH0  \n",
       "3  https://www.amazon.com/dp/B000UA0QIQ  \n",
       "4  https://www.amazon.com/dp/B006K2ZZ7K  "
      ]
     },
     "execution_count": 17,
     "metadata": {},
     "output_type": "execute_result"
    }
   ],
   "source": [
    "g.head()"
   ]
  },
  {
   "cell_type": "code",
   "execution_count": 22,
   "id": "2d583e57-1326-45d9-9809-a5bdeb046e99",
   "metadata": {},
   "outputs": [
    {
     "data": {
      "text/html": [
       "<div>\n",
       "<style scoped>\n",
       "    .dataframe tbody tr th:only-of-type {\n",
       "        vertical-align: middle;\n",
       "    }\n",
       "\n",
       "    .dataframe tbody tr th {\n",
       "        vertical-align: top;\n",
       "    }\n",
       "\n",
       "    .dataframe thead th {\n",
       "        text-align: right;\n",
       "    }\n",
       "</style>\n",
       "<table border=\"1\" class=\"dataframe\">\n",
       "  <thead>\n",
       "    <tr style=\"text-align: right;\">\n",
       "      <th></th>\n",
       "      <th>Id</th>\n",
       "      <th>ProductId</th>\n",
       "      <th>UserId</th>\n",
       "      <th>ProfileName</th>\n",
       "      <th>HelpfulnessNumerator</th>\n",
       "      <th>HelpfulnessDenominator</th>\n",
       "      <th>Score</th>\n",
       "      <th>Time</th>\n",
       "      <th>Summary</th>\n",
       "      <th>Text</th>\n",
       "      <th>ProductURL</th>\n",
       "    </tr>\n",
       "  </thead>\n",
       "  <tbody>\n",
       "    <tr>\n",
       "      <th>131</th>\n",
       "      <td>132</td>\n",
       "      <td>B003OB0IB8</td>\n",
       "      <td>A2DLRG3YX6A2ZU</td>\n",
       "      <td>luckybabe</td>\n",
       "      <td>2</td>\n",
       "      <td>3</td>\n",
       "      <td>2</td>\n",
       "      <td>1323820800</td>\n",
       "      <td>Not for me</td>\n",
       "      <td>I must be a bit of a wuss, because this soup t...</td>\n",
       "      <td>https://www.amazon.com/dp/B003OB0IB8</td>\n",
       "    </tr>\n",
       "  </tbody>\n",
       "</table>\n",
       "</div>"
      ],
      "text/plain": [
       "      Id   ProductId          UserId ProfileName  HelpfulnessNumerator  \\\n",
       "131  132  B003OB0IB8  A2DLRG3YX6A2ZU   luckybabe                     2   \n",
       "\n",
       "     HelpfulnessDenominator  Score        Time     Summary  \\\n",
       "131                       3      2  1323820800  Not for me   \n",
       "\n",
       "                                                  Text  \\\n",
       "131  I must be a bit of a wuss, because this soup t...   \n",
       "\n",
       "                               ProductURL  \n",
       "131  https://www.amazon.com/dp/B003OB0IB8  "
      ]
     },
     "execution_count": 22,
     "metadata": {},
     "output_type": "execute_result"
    }
   ],
   "source": [
    "g[g.index == 131]"
   ]
  },
  {
   "cell_type": "code",
   "execution_count": 21,
   "id": "309275c3-b121-4fe2-9230-97c23d744325",
   "metadata": {},
   "outputs": [
    {
     "data": {
      "text/plain": [
       "array([\"I must be a bit of a wuss, because this soup tastes to me how I imagine fire might taste. Typically I like spicy food if it has a good flavor.  I don't find this to be the case with this soup. Any flavor is killed off by the burn.\"],\n",
       "      dtype=object)"
      ]
     },
     "execution_count": 21,
     "metadata": {},
     "output_type": "execute_result"
    }
   ],
   "source": [
    "g[g.index == 131]['Text'].values"
   ]
  },
  {
   "cell_type": "code",
   "execution_count": null,
   "id": "521b5d2e-f430-40ae-9a57-490193dbcf34",
   "metadata": {},
   "outputs": [],
   "source": [
    "gg = g.replace({None: np.nan})"
   ]
  },
  {
   "cell_type": "code",
   "execution_count": null,
   "id": "898d3376-4a30-4d71-b9c5-306dc3073f3d",
   "metadata": {},
   "outputs": [],
   "source": [
    "g.isna().sum()"
   ]
  },
  {
   "cell_type": "code",
   "execution_count": null,
   "id": "371dc8ff-f1a2-4508-9736-60b6fac2b919",
   "metadata": {},
   "outputs": [],
   "source": []
  }
 ],
 "metadata": {
  "kernelspec": {
   "display_name": "Python 3 (ipykernel)",
   "language": "python",
   "name": "python3"
  },
  "language_info": {
   "codemirror_mode": {
    "name": "ipython",
    "version": 3
   },
   "file_extension": ".py",
   "mimetype": "text/x-python",
   "name": "python",
   "nbconvert_exporter": "python",
   "pygments_lexer": "ipython3",
   "version": "3.11.7"
  }
 },
 "nbformat": 4,
 "nbformat_minor": 5
}
